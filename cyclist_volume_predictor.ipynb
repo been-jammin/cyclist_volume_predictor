{
 "cells": [
  {
   "cell_type": "markdown",
   "metadata": {},
   "source": [
    "# Package and source data imports\n",
    "first let's import all the toys we'll use"
   ]
  },
  {
   "cell_type": "code",
   "execution_count": 141,
   "metadata": {
    "scrolled": true
   },
   "outputs": [],
   "source": [
    "# -*- coding: utf-8 -*-\n",
    "#%%\n",
    "import pandas as pd\n",
    "import datetime as dt\n",
    "import numpy as np\n",
    "import holidays\n",
    "import datetime as dt\n",
    "from sklearn.model_selection import train_test_split, GridSearchCV\n",
    "from sklearn.preprocessing import StandardScaler, OneHotEncoder, MinMaxScaler\n",
    "from sklearn import svm\n",
    "from sklearn.metrics import mean_squared_log_error,mean_squared_error, r2_score,mean_absolute_error # for regression\n",
    "from sklearn import linear_model\n",
    "import matplotlib.pyplot as plt\n",
    "from sklearn.ensemble import RandomForestRegressor\n",
    "import seaborn as sns\n",
    "from sklearn.compose import TransformedTargetRegressor\n",
    "from sklearn.linear_model import RidgeCV\n",
    "from sklearn.inspection import permutation_importance\n"
   ]
  },
  {
   "cell_type": "markdown",
   "metadata": {},
   "source": [
    "next we bring in the weather data by looping through each of the 4 csv files, one for each year. i had prior knowledge of what the headings of these files looked like. so i knew which columns i wanted to use. to get the best design matrix possible, that's basically all of the useful weather data columns. then we coerce the data type of the date/time column as that will help us later. then we create a column that is the day name (ie \"monday\", \"friday\", \"saturday\") etc.... finally we get rid of the degree symbol because we all know what it means and nobody has time to type, let alone remember the ALT+ code for it."
   ]
  },
  {
   "cell_type": "code",
   "execution_count": 142,
   "metadata": {
    "scrolled": true
   },
   "outputs": [],
   "source": [
    "#%%  compile weather data\n",
    "weatherData = pd.DataFrame()\n",
    "fileList = ['en_climate_daily_ON_6105976_2016_P1D.csv',\n",
    "            'en_climate_daily_ON_6105976_2017_P1D.csv',\n",
    "            'en_climate_daily_ON_6105976_2018_P1D.csv',\n",
    "            'en_climate_daily_ON_6105976_2019_P1D.csv']\n",
    "\n",
    "columns_keep = ['Date/Time',\n",
    "    'Max Temp (°C)',\n",
    "    'Min Temp (°C)',\n",
    "    'Mean Temp (°C)',\n",
    "    'Total Rain (mm)',\n",
    "    'Total Snow (cm)',\n",
    "    'Total Precip (mm)',\n",
    "    'Snow on Grnd (cm)']\n",
    "\n",
    "for file in fileList:\n",
    "    incCSV = pd.read_csv(file,usecols = columns_keep)\n",
    "    weatherData = weatherData.append(incCSV)\n",
    "\n",
    "weatherData['Date/Time'] = pd.to_datetime(weatherData['Date/Time'])\n",
    "weatherData['weekday']=weatherData['Date/Time'].dt.day_name()\n",
    "weatherData.columns = weatherData.columns.str.replace('°', '')"
   ]
  },
  {
   "cell_type": "markdown",
   "metadata": {},
   "source": [
    "i suspect that commuters are going to make up a good portion of the cyclists out on the roads on any given day. which means i think the cyclist count will be somewhat influenced by whether it is a working day or a holiday. so the easiest way to do that is to make a new column to determine whether each date is a holiday or not. luckily, there is a python library for this, so we can do it in one line."
   ]
  },
  {
   "cell_type": "code",
   "execution_count": 143,
   "metadata": {
    "scrolled": true
   },
   "outputs": [],
   "source": [
    "#%% label holidays\n",
    "ontario_holidays = holidays.Canada(prov = 'ON')\n",
    "\n",
    "weatherData['holiday?'] = weatherData['Date/Time'].apply(lambda x:'holiday' if x in ontario_holidays else 'non-holiday')"
   ]
  },
  {
   "cell_type": "markdown",
   "metadata": {},
   "source": [
    "have i meantioned i'm a huge fan of professional road cycling? maybe some (albeit tiny) number of people on bikes are out there because they know the Tour De France (the most important bike race in the world, it lasts 3 weeks) is going on. the data scientist in me knows this is probably a longshot, but it could be fun for a discussion. it happens every year for 3 weeks in july. so let's add a column that will tell us whether the tour de france is going on on any given day over the past 4 years. we do this by creating a list of the start and ending date of each year's iteration of the tour and creating a range of dates between those as days that the race is on for that year. then just check each date in the set against the tour dates."
   ]
  },
  {
   "cell_type": "code",
   "execution_count": 144,
   "metadata": {
    "scrolled": true
   },
   "outputs": [],
   "source": [
    "#%% add worldtour dates\n",
    "\n",
    "def addWTDates(dataFrame):\n",
    "    tourDates = []\n",
    "    tourStartsEnds = [dt.date(2016,7,2), \n",
    "            dt.date(2016,7,24), \n",
    "            dt.date(2017,7,1),\n",
    "            dt.date(2017,7,23),\n",
    "            dt.date(2018,7,7),\n",
    "            dt.date(2018,7,29),\n",
    "            dt.date(2019,7,6),\n",
    "            dt.date(2019,7,28)]\n",
    "    \n",
    "    for i in range(0,len(tourStartsEnds), 2):\n",
    "        tourRange = pd.date_range(tourStartsEnds[i],tourStartsEnds[i+1]-dt.timedelta(days=1),freq='d')\n",
    "        tourDates.extend(tourRange)\n",
    "    \n",
    "\n",
    "    dataFrame['world tour?'] = dataFrame['Date/Time'].apply(lambda x:'tour' if x in tourDates else 'no tour')\n",
    "    return dataFrame\n",
    "\n",
    "weatherData = addWTDates(weatherData)"
   ]
  },
  {
   "cell_type": "markdown",
   "metadata": {},
   "source": [
    "now let's work on the data we are trying to predict. this is the number of cyclists in ottawa on any given day. now how do we know that? there are sensors located at 12 (give or take) intersections throughout the city. they sense the number of bikes that go by on any given day. so, with some caveats: 1) leaving some room for people who will not cross any of these sensors, 2) acknowledging that some people are out on routes that will cross more than one of these sensors, we can make an estimate that the sum of all the sensors' counts will give a pretty good idea of the number of cyclists out on the roads in ottawa on any given day.\n",
    "\n",
    "each year's data is in an excel sheet. again, i have knowledge of the header of the data files, so i know what columns we want. the sensors in the sensor list were chosen because those are the only sensors that were fully operational on most dates of all 4 years for which we are doing this investigation. so let's read in the 4 sheets by looping through them and appending each sheet's data to the combo of the prior years. we can also create a column for the total (sum of all sensors data for that day). we can also coerce the date column"
   ]
  },
  {
   "cell_type": "code",
   "execution_count": 145,
   "metadata": {
    "scrolled": true
   },
   "outputs": [],
   "source": [
    "#%% bike volume data\n",
    "bikeVolumeData = pd.DataFrame()\n",
    "\n",
    "sensorList = ['1^ALEX',\n",
    "                '2^ORPY',\n",
    "                '3^COBY',\n",
    "                '5^LMET',\n",
    "                '10^OGLD',\n",
    "                '11 OBVW',\n",
    "                '12a^ADAWE',\n",
    "                '12b^ADAWE',\n",
    "                'Date']\n",
    "\n",
    "\n",
    "sheetList = ['2016','2017','2018','2019']\n",
    "\n",
    "for year in sheetList:\n",
    "    incoming = pd.read_excel('bike_counter.xlsx',\n",
    "                                   sheet_name = year,\n",
    "                                   usecols = sensorList)\n",
    "    \n",
    "    bikeVolumeData = bikeVolumeData.append(incoming)\n",
    "\n",
    "bikeVolumeData['total'] = bikeVolumeData.sum(axis=1)\n",
    "bikeVolumeData['Date']=pd.to_datetime(bikeVolumeData['Date'])"
   ]
  },
  {
   "cell_type": "code",
   "execution_count": 146,
   "metadata": {
    "scrolled": true
   },
   "outputs": [
    {
     "data": {
      "text/html": [
       "<div>\n",
       "<style scoped>\n",
       "    .dataframe tbody tr th:only-of-type {\n",
       "        vertical-align: middle;\n",
       "    }\n",
       "\n",
       "    .dataframe tbody tr th {\n",
       "        vertical-align: top;\n",
       "    }\n",
       "\n",
       "    .dataframe thead th {\n",
       "        text-align: right;\n",
       "    }\n",
       "</style>\n",
       "<table border=\"1\" class=\"dataframe\">\n",
       "  <thead>\n",
       "    <tr style=\"text-align: right;\">\n",
       "      <th></th>\n",
       "      <th>Date</th>\n",
       "      <th>1^ALEX</th>\n",
       "      <th>2^ORPY</th>\n",
       "      <th>3^COBY</th>\n",
       "      <th>5^LMET</th>\n",
       "      <th>10^OGLD</th>\n",
       "      <th>11 OBVW</th>\n",
       "      <th>12a^ADAWE</th>\n",
       "      <th>12b^ADAWE</th>\n",
       "      <th>total</th>\n",
       "    </tr>\n",
       "  </thead>\n",
       "  <tbody>\n",
       "    <tr>\n",
       "      <th>0</th>\n",
       "      <td>2016-01-01</td>\n",
       "      <td>0.0</td>\n",
       "      <td>0.0</td>\n",
       "      <td>9.0</td>\n",
       "      <td>31.0</td>\n",
       "      <td>1.0</td>\n",
       "      <td>1.0</td>\n",
       "      <td>44.0</td>\n",
       "      <td>701.0</td>\n",
       "      <td>787.0</td>\n",
       "    </tr>\n",
       "    <tr>\n",
       "      <th>1</th>\n",
       "      <td>2016-01-02</td>\n",
       "      <td>0.0</td>\n",
       "      <td>1.0</td>\n",
       "      <td>23.0</td>\n",
       "      <td>61.0</td>\n",
       "      <td>15.0</td>\n",
       "      <td>13.0</td>\n",
       "      <td>63.0</td>\n",
       "      <td>466.0</td>\n",
       "      <td>642.0</td>\n",
       "    </tr>\n",
       "    <tr>\n",
       "      <th>2</th>\n",
       "      <td>2016-01-03</td>\n",
       "      <td>1.0</td>\n",
       "      <td>3.0</td>\n",
       "      <td>11.0</td>\n",
       "      <td>29.0</td>\n",
       "      <td>18.0</td>\n",
       "      <td>4.0</td>\n",
       "      <td>66.0</td>\n",
       "      <td>530.0</td>\n",
       "      <td>662.0</td>\n",
       "    </tr>\n",
       "    <tr>\n",
       "      <th>3</th>\n",
       "      <td>2016-01-04</td>\n",
       "      <td>1.0</td>\n",
       "      <td>4.0</td>\n",
       "      <td>54.0</td>\n",
       "      <td>187.0</td>\n",
       "      <td>50.0</td>\n",
       "      <td>4.0</td>\n",
       "      <td>69.0</td>\n",
       "      <td>417.0</td>\n",
       "      <td>786.0</td>\n",
       "    </tr>\n",
       "    <tr>\n",
       "      <th>4</th>\n",
       "      <td>2016-01-05</td>\n",
       "      <td>2.0</td>\n",
       "      <td>8.0</td>\n",
       "      <td>64.0</td>\n",
       "      <td>245.0</td>\n",
       "      <td>55.0</td>\n",
       "      <td>4.0</td>\n",
       "      <td>68.0</td>\n",
       "      <td>507.0</td>\n",
       "      <td>953.0</td>\n",
       "    </tr>\n",
       "  </tbody>\n",
       "</table>\n",
       "</div>"
      ],
      "text/plain": [
       "        Date  1^ALEX  2^ORPY  3^COBY  5^LMET  10^OGLD  11 OBVW  12a^ADAWE  \\\n",
       "0 2016-01-01     0.0     0.0     9.0    31.0      1.0      1.0       44.0   \n",
       "1 2016-01-02     0.0     1.0    23.0    61.0     15.0     13.0       63.0   \n",
       "2 2016-01-03     1.0     3.0    11.0    29.0     18.0      4.0       66.0   \n",
       "3 2016-01-04     1.0     4.0    54.0   187.0     50.0      4.0       69.0   \n",
       "4 2016-01-05     2.0     8.0    64.0   245.0     55.0      4.0       68.0   \n",
       "\n",
       "   12b^ADAWE  total  \n",
       "0      701.0  787.0  \n",
       "1      466.0  642.0  \n",
       "2      530.0  662.0  \n",
       "3      417.0  786.0  \n",
       "4      507.0  953.0  "
      ]
     },
     "metadata": {},
     "output_type": "display_data"
    },
    {
     "data": {
      "text/plain": [
       "(1461, 10)"
      ]
     },
     "metadata": {},
     "output_type": "display_data"
    }
   ],
   "source": [
    "display(bikeVolumeData.head())\n",
    "display(bikeVolumeData.shape)"
   ]
  },
  {
   "cell_type": "markdown",
   "metadata": {},
   "source": [
    "# Data Cleaning\n",
    "\n",
    "we can start with the simplest layer of data cleaning, which is to see if there are any dates where one or more sensors weren't reporting data properly. these should result in blanks or NaNs in the raw data as extracted from the excel sheets."
   ]
  },
  {
   "cell_type": "code",
   "execution_count": 147,
   "metadata": {
    "scrolled": true
   },
   "outputs": [
    {
     "data": {
      "text/plain": [
       "[0, 239, 146, 145, 40, 1, 2, 92, 92, 0]"
      ]
     },
     "execution_count": 147,
     "metadata": {},
     "output_type": "execute_result"
    }
   ],
   "source": [
    "#%% data cleaning\n",
    "nancounts =[]\n",
    "for col in bikeVolumeData.columns:\n",
    "    nancounts.append(bikeVolumeData[col].isna().sum())\n",
    "\n",
    "nancounts"
   ]
  },
  {
   "cell_type": "markdown",
   "metadata": {},
   "source": [
    "yikes. that's a lot of NaNs. we have some choices of how to deal with these. one would be to actually use a machine learning algorithm, much like the one we're developing here, to try and predict them. but in the interest of simplicity, let's just say that every day with a non-reporting sensor is a day whose data we can't trust. so what happens to our data set if we remove each row that has a NaN in it."
   ]
  },
  {
   "cell_type": "code",
   "execution_count": 148,
   "metadata": {
    "scrolled": true
   },
   "outputs": [
    {
     "name": "stdout",
     "output_type": "stream",
     "text": [
      "(1089, 10)\n"
     ]
    }
   ],
   "source": [
    "#%% drop days with any sensors reporting NaN\n",
    "bvdClean = bikeVolumeData.dropna()\n",
    "print(bvdClean.shape)"
   ]
  },
  {
   "cell_type": "markdown",
   "metadata": {},
   "source": [
    "ropping each row with a NaN present in it will take our dample count down from  to 1461 to 1089. that's a big loss. another option would be to remove one sensor entirely. ie the one one most prone to failing. which is the 1st one. if we did that, and then removed all rows with NaNs from other sensors, this may help keep a higher sample count. but at the risk of losing and entire sensor's worth of data from the total."
   ]
  },
  {
   "cell_type": "code",
   "execution_count": 149,
   "metadata": {
    "scrolled": true
   },
   "outputs": [
    {
     "data": {
      "text/html": [
       "<div>\n",
       "<style scoped>\n",
       "    .dataframe tbody tr th:only-of-type {\n",
       "        vertical-align: middle;\n",
       "    }\n",
       "\n",
       "    .dataframe tbody tr th {\n",
       "        vertical-align: top;\n",
       "    }\n",
       "\n",
       "    .dataframe thead th {\n",
       "        text-align: right;\n",
       "    }\n",
       "</style>\n",
       "<table border=\"1\" class=\"dataframe\">\n",
       "  <thead>\n",
       "    <tr style=\"text-align: right;\">\n",
       "      <th></th>\n",
       "      <th>Date</th>\n",
       "      <th>2^ORPY</th>\n",
       "      <th>3^COBY</th>\n",
       "      <th>5^LMET</th>\n",
       "      <th>10^OGLD</th>\n",
       "      <th>11 OBVW</th>\n",
       "      <th>12a^ADAWE</th>\n",
       "      <th>12b^ADAWE</th>\n",
       "      <th>total</th>\n",
       "    </tr>\n",
       "  </thead>\n",
       "  <tbody>\n",
       "    <tr>\n",
       "      <th>0</th>\n",
       "      <td>2016-01-01</td>\n",
       "      <td>0.0</td>\n",
       "      <td>9.0</td>\n",
       "      <td>31.0</td>\n",
       "      <td>1.0</td>\n",
       "      <td>1.0</td>\n",
       "      <td>44.0</td>\n",
       "      <td>701.0</td>\n",
       "      <td>787.0</td>\n",
       "    </tr>\n",
       "    <tr>\n",
       "      <th>1</th>\n",
       "      <td>2016-01-02</td>\n",
       "      <td>1.0</td>\n",
       "      <td>23.0</td>\n",
       "      <td>61.0</td>\n",
       "      <td>15.0</td>\n",
       "      <td>13.0</td>\n",
       "      <td>63.0</td>\n",
       "      <td>466.0</td>\n",
       "      <td>642.0</td>\n",
       "    </tr>\n",
       "    <tr>\n",
       "      <th>2</th>\n",
       "      <td>2016-01-03</td>\n",
       "      <td>3.0</td>\n",
       "      <td>11.0</td>\n",
       "      <td>29.0</td>\n",
       "      <td>18.0</td>\n",
       "      <td>4.0</td>\n",
       "      <td>66.0</td>\n",
       "      <td>530.0</td>\n",
       "      <td>662.0</td>\n",
       "    </tr>\n",
       "    <tr>\n",
       "      <th>3</th>\n",
       "      <td>2016-01-04</td>\n",
       "      <td>4.0</td>\n",
       "      <td>54.0</td>\n",
       "      <td>187.0</td>\n",
       "      <td>50.0</td>\n",
       "      <td>4.0</td>\n",
       "      <td>69.0</td>\n",
       "      <td>417.0</td>\n",
       "      <td>786.0</td>\n",
       "    </tr>\n",
       "    <tr>\n",
       "      <th>4</th>\n",
       "      <td>2016-01-05</td>\n",
       "      <td>8.0</td>\n",
       "      <td>64.0</td>\n",
       "      <td>245.0</td>\n",
       "      <td>55.0</td>\n",
       "      <td>4.0</td>\n",
       "      <td>68.0</td>\n",
       "      <td>507.0</td>\n",
       "      <td>953.0</td>\n",
       "    </tr>\n",
       "    <tr>\n",
       "      <th>...</th>\n",
       "      <td>...</td>\n",
       "      <td>...</td>\n",
       "      <td>...</td>\n",
       "      <td>...</td>\n",
       "      <td>...</td>\n",
       "      <td>...</td>\n",
       "      <td>...</td>\n",
       "      <td>...</td>\n",
       "      <td>...</td>\n",
       "    </tr>\n",
       "    <tr>\n",
       "      <th>302</th>\n",
       "      <td>2019-10-30</td>\n",
       "      <td>1021.0</td>\n",
       "      <td>716.0</td>\n",
       "      <td>1543.0</td>\n",
       "      <td>574.0</td>\n",
       "      <td>516.0</td>\n",
       "      <td>1066.0</td>\n",
       "      <td>1405.0</td>\n",
       "      <td>6841.0</td>\n",
       "    </tr>\n",
       "    <tr>\n",
       "      <th>303</th>\n",
       "      <td>2019-10-31</td>\n",
       "      <td>518.0</td>\n",
       "      <td>423.0</td>\n",
       "      <td>848.0</td>\n",
       "      <td>267.0</td>\n",
       "      <td>271.0</td>\n",
       "      <td>622.0</td>\n",
       "      <td>976.0</td>\n",
       "      <td>3925.0</td>\n",
       "    </tr>\n",
       "    <tr>\n",
       "      <th>304</th>\n",
       "      <td>2019-11-01</td>\n",
       "      <td>460.0</td>\n",
       "      <td>421.0</td>\n",
       "      <td>911.0</td>\n",
       "      <td>236.0</td>\n",
       "      <td>254.0</td>\n",
       "      <td>591.0</td>\n",
       "      <td>997.0</td>\n",
       "      <td>3870.0</td>\n",
       "    </tr>\n",
       "    <tr>\n",
       "      <th>305</th>\n",
       "      <td>2019-11-02</td>\n",
       "      <td>141.0</td>\n",
       "      <td>157.0</td>\n",
       "      <td>284.0</td>\n",
       "      <td>95.0</td>\n",
       "      <td>114.0</td>\n",
       "      <td>322.0</td>\n",
       "      <td>886.0</td>\n",
       "      <td>1999.0</td>\n",
       "    </tr>\n",
       "    <tr>\n",
       "      <th>306</th>\n",
       "      <td>2019-11-03</td>\n",
       "      <td>33.0</td>\n",
       "      <td>26.0</td>\n",
       "      <td>334.0</td>\n",
       "      <td>192.0</td>\n",
       "      <td>208.0</td>\n",
       "      <td>378.0</td>\n",
       "      <td>1339.0</td>\n",
       "      <td>2510.0</td>\n",
       "    </tr>\n",
       "  </tbody>\n",
       "</table>\n",
       "<p>1182 rows × 9 columns</p>\n",
       "</div>"
      ],
      "text/plain": [
       "          Date  2^ORPY  3^COBY  5^LMET  10^OGLD  11 OBVW  12a^ADAWE  \\\n",
       "0   2016-01-01     0.0     9.0    31.0      1.0      1.0       44.0   \n",
       "1   2016-01-02     1.0    23.0    61.0     15.0     13.0       63.0   \n",
       "2   2016-01-03     3.0    11.0    29.0     18.0      4.0       66.0   \n",
       "3   2016-01-04     4.0    54.0   187.0     50.0      4.0       69.0   \n",
       "4   2016-01-05     8.0    64.0   245.0     55.0      4.0       68.0   \n",
       "..         ...     ...     ...     ...      ...      ...        ...   \n",
       "302 2019-10-30  1021.0   716.0  1543.0    574.0    516.0     1066.0   \n",
       "303 2019-10-31   518.0   423.0   848.0    267.0    271.0      622.0   \n",
       "304 2019-11-01   460.0   421.0   911.0    236.0    254.0      591.0   \n",
       "305 2019-11-02   141.0   157.0   284.0     95.0    114.0      322.0   \n",
       "306 2019-11-03    33.0    26.0   334.0    192.0    208.0      378.0   \n",
       "\n",
       "     12b^ADAWE   total  \n",
       "0        701.0   787.0  \n",
       "1        466.0   642.0  \n",
       "2        530.0   662.0  \n",
       "3        417.0   786.0  \n",
       "4        507.0   953.0  \n",
       "..         ...     ...  \n",
       "302     1405.0  6841.0  \n",
       "303      976.0  3925.0  \n",
       "304      997.0  3870.0  \n",
       "305      886.0  1999.0  \n",
       "306     1339.0  2510.0  \n",
       "\n",
       "[1182 rows x 9 columns]"
      ]
     },
     "metadata": {},
     "output_type": "display_data"
    },
    {
     "data": {
      "text/plain": [
       "(1182, 9)"
      ]
     },
     "metadata": {},
     "output_type": "display_data"
    }
   ],
   "source": [
    "bvd = bikeVolumeData.drop(columns = ['1^ALEX'])\n",
    "bvd = bvd.dropna()\n",
    "display(bvd)\n",
    "display(bvd.shape)"
   ]
  },
  {
   "cell_type": "markdown",
   "metadata": {},
   "source": [
    "we only gain ~100 samples by removing one sensor, so we may as well keep it, as keeping it gives us the most accurate total count for all dates where all sensors were reporting. hence, let's go back to using the dataframe bikeVolumeData.\n",
    "\n",
    "now let's combine the X data (weatherData) and Y data (bikeVolumeData) to make sure the dates match up.\n",
    "\n",
    "note: leave line 1 commented out during first run. uncomment later to perform feature engineering\n",
    "\n",
    "# Compile Full Dataset"
   ]
  },
  {
   "cell_type": "code",
   "execution_count": 150,
   "metadata": {
    "scrolled": true
   },
   "outputs": [
    {
     "data": {
      "text/html": [
       "<div>\n",
       "<style scoped>\n",
       "    .dataframe tbody tr th:only-of-type {\n",
       "        vertical-align: middle;\n",
       "    }\n",
       "\n",
       "    .dataframe tbody tr th {\n",
       "        vertical-align: top;\n",
       "    }\n",
       "\n",
       "    .dataframe thead th {\n",
       "        text-align: right;\n",
       "    }\n",
       "</style>\n",
       "<table border=\"1\" class=\"dataframe\">\n",
       "  <thead>\n",
       "    <tr style=\"text-align: right;\">\n",
       "      <th></th>\n",
       "      <th>Date/Time</th>\n",
       "      <th>Max Temp (C)</th>\n",
       "      <th>weekday</th>\n",
       "      <th>holiday?</th>\n",
       "      <th>world tour?</th>\n",
       "      <th>precip level</th>\n",
       "      <th>snow cover</th>\n",
       "      <th>Date</th>\n",
       "      <th>1^ALEX</th>\n",
       "      <th>2^ORPY</th>\n",
       "      <th>3^COBY</th>\n",
       "      <th>5^LMET</th>\n",
       "      <th>10^OGLD</th>\n",
       "      <th>11 OBVW</th>\n",
       "      <th>12a^ADAWE</th>\n",
       "      <th>12b^ADAWE</th>\n",
       "      <th>total</th>\n",
       "    </tr>\n",
       "  </thead>\n",
       "  <tbody>\n",
       "    <tr>\n",
       "      <th>0</th>\n",
       "      <td>2016-01-01</td>\n",
       "      <td>-0.1</td>\n",
       "      <td>Friday</td>\n",
       "      <td>holiday</td>\n",
       "      <td>no tour</td>\n",
       "      <td>no precip</td>\n",
       "      <td>high snowcover</td>\n",
       "      <td>2016-01-01</td>\n",
       "      <td>0.0</td>\n",
       "      <td>0.0</td>\n",
       "      <td>9.0</td>\n",
       "      <td>31.0</td>\n",
       "      <td>1.0</td>\n",
       "      <td>1.0</td>\n",
       "      <td>44.0</td>\n",
       "      <td>701.0</td>\n",
       "      <td>787.0</td>\n",
       "    </tr>\n",
       "    <tr>\n",
       "      <th>1</th>\n",
       "      <td>2016-01-02</td>\n",
       "      <td>-0.1</td>\n",
       "      <td>Saturday</td>\n",
       "      <td>non-holiday</td>\n",
       "      <td>no tour</td>\n",
       "      <td>no precip</td>\n",
       "      <td>high snowcover</td>\n",
       "      <td>2016-01-02</td>\n",
       "      <td>0.0</td>\n",
       "      <td>1.0</td>\n",
       "      <td>23.0</td>\n",
       "      <td>61.0</td>\n",
       "      <td>15.0</td>\n",
       "      <td>13.0</td>\n",
       "      <td>63.0</td>\n",
       "      <td>466.0</td>\n",
       "      <td>642.0</td>\n",
       "    </tr>\n",
       "    <tr>\n",
       "      <th>2</th>\n",
       "      <td>2016-01-03</td>\n",
       "      <td>-0.2</td>\n",
       "      <td>Sunday</td>\n",
       "      <td>non-holiday</td>\n",
       "      <td>no tour</td>\n",
       "      <td>no precip</td>\n",
       "      <td>high snowcover</td>\n",
       "      <td>2016-01-03</td>\n",
       "      <td>1.0</td>\n",
       "      <td>3.0</td>\n",
       "      <td>11.0</td>\n",
       "      <td>29.0</td>\n",
       "      <td>18.0</td>\n",
       "      <td>4.0</td>\n",
       "      <td>66.0</td>\n",
       "      <td>530.0</td>\n",
       "      <td>662.0</td>\n",
       "    </tr>\n",
       "    <tr>\n",
       "      <th>3</th>\n",
       "      <td>2016-01-04</td>\n",
       "      <td>-14.7</td>\n",
       "      <td>Monday</td>\n",
       "      <td>non-holiday</td>\n",
       "      <td>no tour</td>\n",
       "      <td>no precip</td>\n",
       "      <td>high snowcover</td>\n",
       "      <td>2016-01-04</td>\n",
       "      <td>1.0</td>\n",
       "      <td>4.0</td>\n",
       "      <td>54.0</td>\n",
       "      <td>187.0</td>\n",
       "      <td>50.0</td>\n",
       "      <td>4.0</td>\n",
       "      <td>69.0</td>\n",
       "      <td>417.0</td>\n",
       "      <td>786.0</td>\n",
       "    </tr>\n",
       "    <tr>\n",
       "      <th>4</th>\n",
       "      <td>2016-01-05</td>\n",
       "      <td>-7.4</td>\n",
       "      <td>Tuesday</td>\n",
       "      <td>non-holiday</td>\n",
       "      <td>no tour</td>\n",
       "      <td>no precip</td>\n",
       "      <td>high snowcover</td>\n",
       "      <td>2016-01-05</td>\n",
       "      <td>2.0</td>\n",
       "      <td>8.0</td>\n",
       "      <td>64.0</td>\n",
       "      <td>245.0</td>\n",
       "      <td>55.0</td>\n",
       "      <td>4.0</td>\n",
       "      <td>68.0</td>\n",
       "      <td>507.0</td>\n",
       "      <td>953.0</td>\n",
       "    </tr>\n",
       "  </tbody>\n",
       "</table>\n",
       "</div>"
      ],
      "text/plain": [
       "   Date/Time  Max Temp (C)   weekday     holiday? world tour? precip level  \\\n",
       "0 2016-01-01          -0.1    Friday      holiday     no tour    no precip   \n",
       "1 2016-01-02          -0.1  Saturday  non-holiday     no tour    no precip   \n",
       "2 2016-01-03          -0.2    Sunday  non-holiday     no tour    no precip   \n",
       "3 2016-01-04         -14.7    Monday  non-holiday     no tour    no precip   \n",
       "4 2016-01-05          -7.4   Tuesday  non-holiday     no tour    no precip   \n",
       "\n",
       "       snow cover       Date  1^ALEX  2^ORPY  3^COBY  5^LMET  10^OGLD  \\\n",
       "0  high snowcover 2016-01-01     0.0     0.0     9.0    31.0      1.0   \n",
       "1  high snowcover 2016-01-02     0.0     1.0    23.0    61.0     15.0   \n",
       "2  high snowcover 2016-01-03     1.0     3.0    11.0    29.0     18.0   \n",
       "3  high snowcover 2016-01-04     1.0     4.0    54.0   187.0     50.0   \n",
       "4  high snowcover 2016-01-05     2.0     8.0    64.0   245.0     55.0   \n",
       "\n",
       "   11 OBVW  12a^ADAWE  12b^ADAWE  total  \n",
       "0      1.0       44.0      701.0  787.0  \n",
       "1     13.0       63.0      466.0  642.0  \n",
       "2      4.0       66.0      530.0  662.0  \n",
       "3      4.0       69.0      417.0  786.0  \n",
       "4      4.0       68.0      507.0  953.0  "
      ]
     },
     "metadata": {},
     "output_type": "display_data"
    },
    {
     "data": {
      "text/html": [
       "<div>\n",
       "<style scoped>\n",
       "    .dataframe tbody tr th:only-of-type {\n",
       "        vertical-align: middle;\n",
       "    }\n",
       "\n",
       "    .dataframe tbody tr th {\n",
       "        vertical-align: top;\n",
       "    }\n",
       "\n",
       "    .dataframe thead th {\n",
       "        text-align: right;\n",
       "    }\n",
       "</style>\n",
       "<table border=\"1\" class=\"dataframe\">\n",
       "  <thead>\n",
       "    <tr style=\"text-align: right;\">\n",
       "      <th></th>\n",
       "      <th>Date/Time</th>\n",
       "      <th>Max Temp (C)</th>\n",
       "      <th>weekday</th>\n",
       "      <th>holiday?</th>\n",
       "      <th>world tour?</th>\n",
       "      <th>precip level</th>\n",
       "      <th>snow cover</th>\n",
       "      <th>Date</th>\n",
       "      <th>1^ALEX</th>\n",
       "      <th>2^ORPY</th>\n",
       "      <th>3^COBY</th>\n",
       "      <th>5^LMET</th>\n",
       "      <th>10^OGLD</th>\n",
       "      <th>11 OBVW</th>\n",
       "      <th>12a^ADAWE</th>\n",
       "      <th>12b^ADAWE</th>\n",
       "      <th>total</th>\n",
       "    </tr>\n",
       "  </thead>\n",
       "  <tbody>\n",
       "    <tr>\n",
       "      <th>360</th>\n",
       "      <td>2019-12-27</td>\n",
       "      <td>3.5</td>\n",
       "      <td>Friday</td>\n",
       "      <td>non-holiday</td>\n",
       "      <td>no tour</td>\n",
       "      <td>no precip</td>\n",
       "      <td>no snowcover</td>\n",
       "      <td>2019-12-27</td>\n",
       "      <td>NaN</td>\n",
       "      <td>NaN</td>\n",
       "      <td>NaN</td>\n",
       "      <td>103.0</td>\n",
       "      <td>30.0</td>\n",
       "      <td>2.0</td>\n",
       "      <td>88.0</td>\n",
       "      <td>510.0</td>\n",
       "      <td>733.0</td>\n",
       "    </tr>\n",
       "    <tr>\n",
       "      <th>361</th>\n",
       "      <td>2019-12-28</td>\n",
       "      <td>3.5</td>\n",
       "      <td>Saturday</td>\n",
       "      <td>non-holiday</td>\n",
       "      <td>no tour</td>\n",
       "      <td>no precip</td>\n",
       "      <td>no snowcover</td>\n",
       "      <td>2019-12-28</td>\n",
       "      <td>NaN</td>\n",
       "      <td>NaN</td>\n",
       "      <td>NaN</td>\n",
       "      <td>82.0</td>\n",
       "      <td>22.0</td>\n",
       "      <td>3.0</td>\n",
       "      <td>133.0</td>\n",
       "      <td>1042.0</td>\n",
       "      <td>1282.0</td>\n",
       "    </tr>\n",
       "    <tr>\n",
       "      <th>362</th>\n",
       "      <td>2019-12-29</td>\n",
       "      <td>0.5</td>\n",
       "      <td>Sunday</td>\n",
       "      <td>non-holiday</td>\n",
       "      <td>no tour</td>\n",
       "      <td>no precip</td>\n",
       "      <td>no snowcover</td>\n",
       "      <td>2019-12-29</td>\n",
       "      <td>NaN</td>\n",
       "      <td>NaN</td>\n",
       "      <td>NaN</td>\n",
       "      <td>75.0</td>\n",
       "      <td>27.0</td>\n",
       "      <td>5.0</td>\n",
       "      <td>98.0</td>\n",
       "      <td>687.0</td>\n",
       "      <td>892.0</td>\n",
       "    </tr>\n",
       "    <tr>\n",
       "      <th>363</th>\n",
       "      <td>2019-12-30</td>\n",
       "      <td>-1.0</td>\n",
       "      <td>Monday</td>\n",
       "      <td>non-holiday</td>\n",
       "      <td>no tour</td>\n",
       "      <td>high precip</td>\n",
       "      <td>no snowcover</td>\n",
       "      <td>2019-12-30</td>\n",
       "      <td>NaN</td>\n",
       "      <td>NaN</td>\n",
       "      <td>NaN</td>\n",
       "      <td>90.0</td>\n",
       "      <td>26.0</td>\n",
       "      <td>7.0</td>\n",
       "      <td>86.0</td>\n",
       "      <td>398.0</td>\n",
       "      <td>607.0</td>\n",
       "    </tr>\n",
       "    <tr>\n",
       "      <th>364</th>\n",
       "      <td>2019-12-31</td>\n",
       "      <td>1.0</td>\n",
       "      <td>Tuesday</td>\n",
       "      <td>non-holiday</td>\n",
       "      <td>no tour</td>\n",
       "      <td>med precip</td>\n",
       "      <td>high snowcover</td>\n",
       "      <td>2019-12-31</td>\n",
       "      <td>NaN</td>\n",
       "      <td>NaN</td>\n",
       "      <td>NaN</td>\n",
       "      <td>112.0</td>\n",
       "      <td>18.0</td>\n",
       "      <td>4.0</td>\n",
       "      <td>75.0</td>\n",
       "      <td>588.0</td>\n",
       "      <td>797.0</td>\n",
       "    </tr>\n",
       "  </tbody>\n",
       "</table>\n",
       "</div>"
      ],
      "text/plain": [
       "     Date/Time  Max Temp (C)   weekday     holiday? world tour? precip level  \\\n",
       "360 2019-12-27           3.5    Friday  non-holiday     no tour    no precip   \n",
       "361 2019-12-28           3.5  Saturday  non-holiday     no tour    no precip   \n",
       "362 2019-12-29           0.5    Sunday  non-holiday     no tour    no precip   \n",
       "363 2019-12-30          -1.0    Monday  non-holiday     no tour  high precip   \n",
       "364 2019-12-31           1.0   Tuesday  non-holiday     no tour   med precip   \n",
       "\n",
       "         snow cover       Date  1^ALEX  2^ORPY  3^COBY  5^LMET  10^OGLD  \\\n",
       "360    no snowcover 2019-12-27     NaN     NaN     NaN   103.0     30.0   \n",
       "361    no snowcover 2019-12-28     NaN     NaN     NaN    82.0     22.0   \n",
       "362    no snowcover 2019-12-29     NaN     NaN     NaN    75.0     27.0   \n",
       "363    no snowcover 2019-12-30     NaN     NaN     NaN    90.0     26.0   \n",
       "364  high snowcover 2019-12-31     NaN     NaN     NaN   112.0     18.0   \n",
       "\n",
       "     11 OBVW  12a^ADAWE  12b^ADAWE   total  \n",
       "360      2.0       88.0      510.0   733.0  \n",
       "361      3.0      133.0     1042.0  1282.0  \n",
       "362      5.0       98.0      687.0   892.0  \n",
       "363      7.0       86.0      398.0   607.0  \n",
       "364      4.0       75.0      588.0   797.0  "
      ]
     },
     "metadata": {},
     "output_type": "display_data"
    }
   ],
   "source": [
    "#%% full dataset\n",
    "fullDataset = pd.concat([weatherData,bikeVolumeData],axis=1)\n",
    "fullDataset = pd.concat([weatherData_eng,bikeVolumeData],axis=1)\n",
    "\n",
    "display(fullDataset.head())\n",
    "display(fullDataset.tail())"
   ]
  },
  {
   "cell_type": "markdown",
   "metadata": {},
   "source": [
    "luckily the dates do match up. so now we can drop all the rows with NaN values from sensors and be left with a clean dataset. it won't include every day, but the days that are left we can trust. and it will delete the appropriate rows from the weather data as well, keeeping everything lined up. \n",
    "\n",
    "while we are doing this, we can drop the date/time columns from each part of the full set."
   ]
  },
  {
   "cell_type": "code",
   "execution_count": 151,
   "metadata": {
    "scrolled": true
   },
   "outputs": [],
   "source": [
    "fullDataset = fullDataset.dropna()\n",
    "\n",
    "fullDataset = fullDataset.drop(columns = ['Date/Time','Date'])"
   ]
  },
  {
   "cell_type": "markdown",
   "metadata": {},
   "source": [
    "# Data Exploration/Visualization\n",
    "\n",
    "now that we have clean data, let's do some preliminary data exploration to see if we can find any trends or connections. we'll start with a box plot of the weather data to see if it makes sense. "
   ]
  },
  {
   "cell_type": "code",
   "execution_count": 152,
   "metadata": {
    "scrolled": true
   },
   "outputs": [
    {
     "data": {
      "text/plain": [
       "<matplotlib.axes._subplots.AxesSubplot at 0x1bcef10da60>"
      ]
     },
     "execution_count": 152,
     "metadata": {},
     "output_type": "execute_result"
    },
    {
     "data": {
      "text/plain": [
       "<Figure size 432x288 with 0 Axes>"
      ]
     },
     "metadata": {},
     "output_type": "display_data"
    },
    {
     "data": {
      "image/png": "[encoded data removed]",
      "text/plain": [
       "<Figure size 432x288 with 1 Axes>"
      ]
     },
     "metadata": {
      "needs_background": "light"
     },
     "output_type": "display_data"
    }
   ],
   "source": [
    "#%% data exploration\n",
    "plt.figure()\n",
    "#sns.boxplot(data=fullDataset[['Max Temp (C)', 'Min Temp (C)', 'Mean Temp (C)', 'Total Rain (mm)',\n",
    "#                             'Total Snow (cm)', 'Total Precip (mm)', 'Snow on Grnd (cm)']])\n",
    "\n",
    "plt.figure()\n",
    "sns.boxplot(fullDataset['total'])"
   ]
  },
  {
   "cell_type": "markdown",
   "metadata": {},
   "source": [
    "we can see that it does, with all the temp fields being in the expected range for Ottawa. and all the preciptation fields making sense. \n",
    "\n",
    "we can see that there are some outliers in the preciptation fields. or...outliers as the boxplot shows. but are these really outliers? a day with particularly heavy rain/snowfall is not really an outlier, as we expect that to have a real impact on the predicted cyclist count for that day. plus, we want our model to be able to predict cyclist counts on days with abnormally high precipitation. "
   ]
  },
  {
   "cell_type": "markdown",
   "metadata": {},
   "source": [
    "now let's see if there are any linear correlations. a good place to start might be the max temperature. we'd expect to see more cyclists out in the city on warmer days (ie spring and summer, not fall and winter). so let's see if that relationship is there."
   ]
  },
  {
   "cell_type": "code",
   "execution_count": 153,
   "metadata": {
    "scrolled": true
   },
   "outputs": [
    {
     "data": {
      "text/plain": [
       "Text(0, 0.5, 'number of cyclists, all sensors')"
      ]
     },
     "execution_count": 153,
     "metadata": {},
     "output_type": "execute_result"
    },
    {
     "data": {
      "image/png": "[encoded data removed]",
      "text/plain": [
       "<Figure size 432x288 with 1 Axes>"
      ]
     },
     "metadata": {
      "needs_background": "light"
     },
     "output_type": "display_data"
    }
   ],
   "source": [
    "plt.figure()\n",
    "plt.scatter(fullDataset['Max Temp (C)'],fullDataset['total'], label = 'cyclist count')\n",
    "plt.legend()\n",
    "plt.xlabel('index')\n",
    "plt.ylabel('number of cyclists, all sensors')"
   ]
  },
  {
   "cell_type": "markdown",
   "metadata": {},
   "source": [
    "so the relationship is there, but it doesn't look linear. if anything it looks exponential. most machine learning regression estimators can handle this, but they tend to like linear relationships better. so let's see if this one can be linearized. we'll attempt this by making the same plot, but using the log of the cyclist count (using np.log())"
   ]
  },
  {
   "cell_type": "code",
   "execution_count": 154,
   "metadata": {
    "scrolled": true
   },
   "outputs": [
    {
     "data": {
      "text/plain": [
       "<matplotlib.legend.Legend at 0x1bcf4da2b80>"
      ]
     },
     "execution_count": 154,
     "metadata": {},
     "output_type": "execute_result"
    },
    {
     "data": {
      "image/png": "[encoded data removed]",
      "text/plain": [
       "<Figure size 432x288 with 1 Axes>"
      ]
     },
     "metadata": {
      "needs_background": "light"
     },
     "output_type": "display_data"
    }
   ],
   "source": [
    "plt.figure()\n",
    "plt.scatter(fullDataset['Max Temp (C)'],np.log(fullDataset['total']), label = 'log of cyclist count')\n",
    "plt.legend()"
   ]
  },
  {
   "cell_type": "markdown",
   "metadata": {},
   "source": [
    "that looks much more linear. so we'll need to remember to take this into account later when we start fitting estimators.\n",
    "\n",
    "now that we have verified this relationship, let's check out the heatmap of correlation coefficients of all the variables in teh set to see if there are other interesting ones."
   ]
  },
  {
   "cell_type": "code",
   "execution_count": 155,
   "metadata": {
    "scrolled": true
   },
   "outputs": [
    {
     "data": {
      "text/plain": [
       "<matplotlib.axes._subplots.AxesSubplot at 0x1bcf4e20910>"
      ]
     },
     "execution_count": 155,
     "metadata": {},
     "output_type": "execute_result"
    },
    {
     "data": {
      "image/png": "[encoded data removed]",
      "text/plain": [
       "<Figure size 2160x864 with 2 Axes>"
      ]
     },
     "metadata": {
      "needs_background": "light"
     },
     "output_type": "display_data"
    }
   ],
   "source": [
    "\n",
    "cor_mat= fullDataset[:].corr()\n",
    "mask = np.array(cor_mat)\n",
    "mask[np.tril_indices_from(mask)] = False\n",
    "fig=plt.gcf()\n",
    "fig.set_size_inches(30,12)\n",
    "sns.heatmap(data=cor_mat,mask=mask,square=True,annot=True,cbar=True)\n"
   ]
  },
  {
   "cell_type": "markdown",
   "metadata": {},
   "source": [
    "some intersting takeaways from this heatmap:\n",
    "1. max temp is correlated more strongly with all sensors (and total) than min temp and mean temp. i had expected all 3 of these to be multicolinear with each other, but it seems max temp has the strongest correlation with the output. this may be helpful later\n",
    "2. snow on the ground is strongly negatively correlated with the total. makes sense. who wants to ride bikes when there's snow on the ground.\n",
    "3. no correlation coefficient available between the categorical variables (weekday, holiday, tour de france day)\n",
    "\n",
    "\n",
    "anyway, now it's time to build some models. first, some pre-preprocessing and organization. our target variable (the thing we are trying to predict) is the total number of cyclists. so let's define that and create our proper X and Y matrices, using only the weather data and the total cyclists. the X will be formed from the fullDataset dataframe with the sensor and date columns dropped. the Y matrix is just the 'total' column of the fullDataset dataframe"
   ]
  },
  {
   "cell_type": "code",
   "execution_count": 156,
   "metadata": {
    "scrolled": true
   },
   "outputs": [
    {
     "data": {
      "text/plain": [
       "'X matrix'"
      ]
     },
     "metadata": {},
     "output_type": "display_data"
    },
    {
     "data": {
      "text/html": [
       "<div>\n",
       "<style scoped>\n",
       "    .dataframe tbody tr th:only-of-type {\n",
       "        vertical-align: middle;\n",
       "    }\n",
       "\n",
       "    .dataframe tbody tr th {\n",
       "        vertical-align: top;\n",
       "    }\n",
       "\n",
       "    .dataframe thead th {\n",
       "        text-align: right;\n",
       "    }\n",
       "</style>\n",
       "<table border=\"1\" class=\"dataframe\">\n",
       "  <thead>\n",
       "    <tr style=\"text-align: right;\">\n",
       "      <th></th>\n",
       "      <th>Max Temp (C)</th>\n",
       "      <th>weekday</th>\n",
       "      <th>holiday?</th>\n",
       "      <th>world tour?</th>\n",
       "      <th>precip level</th>\n",
       "      <th>snow cover</th>\n",
       "    </tr>\n",
       "  </thead>\n",
       "  <tbody>\n",
       "    <tr>\n",
       "      <th>0</th>\n",
       "      <td>-0.1</td>\n",
       "      <td>Friday</td>\n",
       "      <td>holiday</td>\n",
       "      <td>no tour</td>\n",
       "      <td>no precip</td>\n",
       "      <td>high snowcover</td>\n",
       "    </tr>\n",
       "    <tr>\n",
       "      <th>1</th>\n",
       "      <td>-0.1</td>\n",
       "      <td>Saturday</td>\n",
       "      <td>non-holiday</td>\n",
       "      <td>no tour</td>\n",
       "      <td>no precip</td>\n",
       "      <td>high snowcover</td>\n",
       "    </tr>\n",
       "    <tr>\n",
       "      <th>2</th>\n",
       "      <td>-0.2</td>\n",
       "      <td>Sunday</td>\n",
       "      <td>non-holiday</td>\n",
       "      <td>no tour</td>\n",
       "      <td>no precip</td>\n",
       "      <td>high snowcover</td>\n",
       "    </tr>\n",
       "    <tr>\n",
       "      <th>3</th>\n",
       "      <td>-14.7</td>\n",
       "      <td>Monday</td>\n",
       "      <td>non-holiday</td>\n",
       "      <td>no tour</td>\n",
       "      <td>no precip</td>\n",
       "      <td>high snowcover</td>\n",
       "    </tr>\n",
       "    <tr>\n",
       "      <th>4</th>\n",
       "      <td>-7.4</td>\n",
       "      <td>Tuesday</td>\n",
       "      <td>non-holiday</td>\n",
       "      <td>no tour</td>\n",
       "      <td>no precip</td>\n",
       "      <td>high snowcover</td>\n",
       "    </tr>\n",
       "  </tbody>\n",
       "</table>\n",
       "</div>"
      ],
      "text/plain": [
       "   Max Temp (C)   weekday     holiday? world tour? precip level  \\\n",
       "0          -0.1    Friday      holiday     no tour    no precip   \n",
       "1          -0.1  Saturday  non-holiday     no tour    no precip   \n",
       "2          -0.2    Sunday  non-holiday     no tour    no precip   \n",
       "3         -14.7    Monday  non-holiday     no tour    no precip   \n",
       "4          -7.4   Tuesday  non-holiday     no tour    no precip   \n",
       "\n",
       "       snow cover  \n",
       "0  high snowcover  \n",
       "1  high snowcover  \n",
       "2  high snowcover  \n",
       "3  high snowcover  \n",
       "4  high snowcover  "
      ]
     },
     "metadata": {},
     "output_type": "display_data"
    },
    {
     "data": {
      "text/plain": [
       "'Y matrix'"
      ]
     },
     "metadata": {},
     "output_type": "display_data"
    },
    {
     "data": {
      "text/plain": [
       "0    787.0\n",
       "1    642.0\n",
       "2    662.0\n",
       "3    786.0\n",
       "4    953.0\n",
       "Name: total, dtype: float64"
      ]
     },
     "metadata": {},
     "output_type": "display_data"
    }
   ],
   "source": [
    "#%% target variable\n",
    "target = 'total'\n",
    "\n",
    "#%% split into X and Y\n",
    "if 'Date' in sensorList:\n",
    "    sensorList.remove('Date')\n",
    "X = fullDataset.drop(columns = sensorList)\n",
    "\n",
    "target = 'total'\n",
    "Y = fullDataset[target]\n",
    "X = X.drop(columns = target)\n",
    "display('X matrix')\n",
    "display(X.head())\n",
    "display('Y matrix')\n",
    "display(Y.head())"
   ]
  },
  {
   "cell_type": "markdown",
   "metadata": {},
   "source": [
    "next, we'll split the data into training set and test set. and i will also jump high up on my soapbox and gripe about a very confusing phenomenon that occurs in the pandas/python relationship that caused me to pull lots of hair out when first programming this.\n",
    "\n",
    "if i were to use train/test split the normal way, ie this way:\n",
    "X_train, X_test, Y_train, Y_test, = train_test_split(X,Y,test_size = 0.2)\n",
    "\n",
    "all 4 dataframes on the left would be assigned with their indexes scrambled. you can see this by doing it and displaying the dataframe. this is fine and what we expect from this operation.\n"
   ]
  },
  {
   "cell_type": "code",
   "execution_count": 157,
   "metadata": {
    "scrolled": true
   },
   "outputs": [
    {
     "data": {
      "text/plain": [
       "177    19287.0\n",
       "21      1355.0\n",
       "149    11694.0\n",
       "186    18455.0\n",
       "226     9153.0\n",
       "        ...   \n",
       "183    16811.0\n",
       "160    14048.0\n",
       "120    15167.0\n",
       "300     1354.0\n",
       "304     7759.0\n",
       "Name: total, Length: 862, dtype: float64"
      ]
     },
     "metadata": {},
     "output_type": "display_data"
    }
   ],
   "source": [
    "X_train, X_test, Y_train, Y_test, = train_test_split(X,Y,test_size = 0.2)\n",
    "display(Y_train)"
   ]
  },
  {
   "cell_type": "markdown",
   "metadata": {},
   "source": [
    "however, if you wanted to plot any column of this dataframe (plot, not scatter), python/pandas/matplotlib would assume you want them plotted back in index order. we can see this because of the seasonality and shape of the data. even though we have dropped the date from the dataframe, this is clearly being printed in date order. with jan-march at the beginning with very few cyclists, increasing rapidly to high numbere in the spring and summer (indexes 125-250), and then declining sharply in the fall and winter(indexes 300-325)."
   ]
  },
  {
   "cell_type": "code",
   "execution_count": 158,
   "metadata": {
    "scrolled": true
   },
   "outputs": [
    {
     "data": {
      "text/plain": [
       "[<matplotlib.lines.Line2D at 0x1bcf4f529a0>]"
      ]
     },
     "execution_count": 158,
     "metadata": {},
     "output_type": "execute_result"
    },
    {
     "data": {
      "image/png": "[encoded data removed]",
      "text/plain": [
       "<Figure size 432x288 with 1 Axes>"
      ]
     },
     "metadata": {
      "needs_background": "light"
     },
     "output_type": "display_data"
    }
   ],
   "source": [
    "plt.plot(Y_train, linestyle = 'none', marker = '.')"
   ]
  },
  {
   "cell_type": "markdown",
   "metadata": {},
   "source": [
    "ordinarily this would not be a problem. but recall that we are now being shown a graph that is in index order, but it is of data that, when we look at it in tabular form, is shown shuffled.\n",
    "\n",
    "now suppose we now carry on with building our model, use it to predict cyclist counts, and then want to plot them on the above graph. they would plot out of order and not show the shape/seasonality of this data (trust me on this). that's because the predicted values would be assigned new indices. this makes sense as will be a brand new variable, which was created from a varaible whose indexes were shuffled by train/test split. as such, if you were to plot those values on the above graph using plot(), they would show all over the place. they would be in their own index order, but that order would not match the unshuffled index order of the training data.\n",
    "\n",
    "while first building this model this took me forever to figure out. i kept thinking there was something wrong with my model that it was making terrible predictions. when in reality the predictions were quite good, but the shape of the data looked awful because the 1st series, which is the training data, was plotted in index order (python/pandas/mpl assumed i wanted it that way) and the 2nd series, the predicted data, was plotted out of index order.\n",
    "\n",
    "now technically i realize this doesn't break any rules and i guess it is consistent. i just wish there was some way for matplotlib to tell the programmer when using plot() that it is assuming you want it plotted in index order, when the way the variable is displayed in tabular form, would be in shuffled order. maybe this reveals a gap in my knowledge of the interactions between these 3 entities, or in python as a whole, but if mpl plotted the first graph in the shuffled order in which it is displayed, i would have seen my error much more quickly. thanks for listening, rant over.\n",
    "\n",
    "# Train/Test Split and Preprocessing\n",
    "\n",
    "now there is a simple solution to the above problem that i have not seen taught in any machine learning courses i have taken. the first step is to create a variable of just integers that represent the original unshuffled indices of the X-matrix. then, take that variable and pass it through the train/test split alongside the X and Y matrices. this variable will be split into 2 (a train and a test) and each will hold the indices of the train/test matrices of the X and Y matrices. this way, if you ever want to plot and overlay, there is a varaible with the shuffled indices you can plot against. we'll do that in the step below and later see how it turns out."
   ]
  },
  {
   "cell_type": "code",
   "execution_count": 159,
   "metadata": {
    "scrolled": true
   },
   "outputs": [],
   "source": [
    "#%% train test split while preserving index\n",
    "idx=range(len(X))\n",
    "X_train, X_test, Y_train, Y_test, idx_train, idx_test = train_test_split(X,Y,idx, \n",
    "                  test_size = 0.2, \n",
    "                  random_state = 42, \n",
    "                  shuffle = True)"
   ]
  },
  {
   "cell_type": "markdown",
   "metadata": {},
   "source": [
    "we have some continuous and some categorical data here, so we will need to transform (scale/encode) each group of columns separately. i do this by splitting the training and test sets into subsets each with consistent datatype so i can look into them later if i need to. dtypes() and select_dtypes() are VERY helpful here. \n"
   ]
  },
  {
   "cell_type": "code",
   "execution_count": 160,
   "metadata": {
    "scrolled": true
   },
   "outputs": [],
   "source": [
    "#%% preprocessing, training set\n",
    "scaler = StandardScaler()\n",
    "mms = MinMaxScaler(feature_range = (0,1))\n",
    "ohe = OneHotEncoder(drop = 'if_binary', sparse = False)\n",
    "\n",
    "Xtr_cont = X_train.select_dtypes(include = 'float64')\n",
    "\n",
    "Xtr_categ = X_train.select_dtypes(exclude = 'float64')\n",
    "Xtr_categ = Xtr_categ.astype('category')\n",
    "\n",
    "Xtr_scaled = mms.fit_transform(Xtr_cont)\n",
    "\n",
    "Xtr_enc = ohe.fit_transform(Xtr_categ)\n",
    "Xtr_prepd = np.concatenate([Xtr_scaled, Xtr_enc], axis=1)\n",
    "\n",
    "Xtr_prepd = pd.DataFrame(Xtr_prepd)"
   ]
  },
  {
   "cell_type": "markdown",
   "metadata": {},
   "source": [
    "a few specific things to note about the above and below operations:\n",
    "1. i've read that while the standard scaler would normally be the correct way to center/scale the data, when using continuously scaled data alongside one hot encoded data, putting centering/scaling the continous data along the range [0,1] will give better results, which is easier with the min/max scaler, as we can pass it an exact range to use\n",
    "2. passing \"drop='if binary'\" is a cool trick i learned to prevent the dummy variable trap when using a OHE on data that is both binary (like our holiday column essentially being boolean) and categorical (day name). the encoder will drop the 2nd (unneccessary/dangerous) encoded column when the data has only 2 categories (like holiday/non-holiday). but will not drop any columns when encoding columns with higher cardinality\n",
    "3. casting non-continous columns as 'category' i have read to be more efficient during the fitting process\n",
    "\n",
    "4. notice below, on the test set, for the continuous data, we are using a new scaler object. this is because while we are pretty sure the training set and the test set come from the distribution of continuous values (in fact, we know this), we have to pretend we've never seen the test set before. so we will give use a new object. similarly, for the categorical data, we are using a new encoder object. but we are passing it the columns that the training set encoder came up with. this allows us to \"pretend we've never seen the test set before\" while at the same time knowing that the data will fall into categories that we have already defined (ie the ones taken from the training set)"
   ]
  },
  {
   "cell_type": "code",
   "execution_count": 161,
   "metadata": {
    "scrolled": true
   },
   "outputs": [
    {
     "data": {
      "text/html": [
       "<div>\n",
       "<style scoped>\n",
       "    .dataframe tbody tr th:only-of-type {\n",
       "        vertical-align: middle;\n",
       "    }\n",
       "\n",
       "    .dataframe tbody tr th {\n",
       "        vertical-align: top;\n",
       "    }\n",
       "\n",
       "    .dataframe thead th {\n",
       "        text-align: right;\n",
       "    }\n",
       "</style>\n",
       "<table border=\"1\" class=\"dataframe\">\n",
       "  <thead>\n",
       "    <tr style=\"text-align: right;\">\n",
       "      <th></th>\n",
       "      <th>Max Temp (C)</th>\n",
       "      <th>weekday</th>\n",
       "      <th>holiday?</th>\n",
       "      <th>world tour?</th>\n",
       "      <th>precip level</th>\n",
       "      <th>snow cover</th>\n",
       "    </tr>\n",
       "  </thead>\n",
       "  <tbody>\n",
       "    <tr>\n",
       "      <th>149</th>\n",
       "      <td>22.5</td>\n",
       "      <td>Tuesday</td>\n",
       "      <td>non-holiday</td>\n",
       "      <td>no tour</td>\n",
       "      <td>low precip</td>\n",
       "      <td>no snowcover</td>\n",
       "    </tr>\n",
       "    <tr>\n",
       "      <th>274</th>\n",
       "      <td>20.5</td>\n",
       "      <td>Monday</td>\n",
       "      <td>non-holiday</td>\n",
       "      <td>no tour</td>\n",
       "      <td>no precip</td>\n",
       "      <td>no snowcover</td>\n",
       "    </tr>\n",
       "    <tr>\n",
       "      <th>236</th>\n",
       "      <td>27.5</td>\n",
       "      <td>Saturday</td>\n",
       "      <td>non-holiday</td>\n",
       "      <td>no tour</td>\n",
       "      <td>no precip</td>\n",
       "      <td>no snowcover</td>\n",
       "    </tr>\n",
       "    <tr>\n",
       "      <th>313</th>\n",
       "      <td>-4.5</td>\n",
       "      <td>Friday</td>\n",
       "      <td>non-holiday</td>\n",
       "      <td>no tour</td>\n",
       "      <td>no precip</td>\n",
       "      <td>no snowcover</td>\n",
       "    </tr>\n",
       "    <tr>\n",
       "      <th>265</th>\n",
       "      <td>16.5</td>\n",
       "      <td>Sunday</td>\n",
       "      <td>non-holiday</td>\n",
       "      <td>no tour</td>\n",
       "      <td>no precip</td>\n",
       "      <td>no snowcover</td>\n",
       "    </tr>\n",
       "    <tr>\n",
       "      <th>...</th>\n",
       "      <td>...</td>\n",
       "      <td>...</td>\n",
       "      <td>...</td>\n",
       "      <td>...</td>\n",
       "      <td>...</td>\n",
       "      <td>...</td>\n",
       "    </tr>\n",
       "    <tr>\n",
       "      <th>183</th>\n",
       "      <td>30.5</td>\n",
       "      <td>Wednesday</td>\n",
       "      <td>non-holiday</td>\n",
       "      <td>no tour</td>\n",
       "      <td>no precip</td>\n",
       "      <td>no snowcover</td>\n",
       "    </tr>\n",
       "    <tr>\n",
       "      <th>10</th>\n",
       "      <td>-15.0</td>\n",
       "      <td>Friday</td>\n",
       "      <td>non-holiday</td>\n",
       "      <td>no tour</td>\n",
       "      <td>no precip</td>\n",
       "      <td>med snowcover</td>\n",
       "    </tr>\n",
       "    <tr>\n",
       "      <th>78</th>\n",
       "      <td>0.0</td>\n",
       "      <td>Tuesday</td>\n",
       "      <td>non-holiday</td>\n",
       "      <td>no tour</td>\n",
       "      <td>no precip</td>\n",
       "      <td>high snowcover</td>\n",
       "    </tr>\n",
       "    <tr>\n",
       "      <th>135</th>\n",
       "      <td>21.0</td>\n",
       "      <td>Tuesday</td>\n",
       "      <td>non-holiday</td>\n",
       "      <td>no tour</td>\n",
       "      <td>no precip</td>\n",
       "      <td>no snowcover</td>\n",
       "    </tr>\n",
       "    <tr>\n",
       "      <th>1</th>\n",
       "      <td>0.0</td>\n",
       "      <td>Monday</td>\n",
       "      <td>holiday</td>\n",
       "      <td>no tour</td>\n",
       "      <td>no precip</td>\n",
       "      <td>high snowcover</td>\n",
       "    </tr>\n",
       "  </tbody>\n",
       "</table>\n",
       "<p>216 rows × 6 columns</p>\n",
       "</div>"
      ],
      "text/plain": [
       "     Max Temp (C)    weekday     holiday? world tour? precip level  \\\n",
       "149          22.5    Tuesday  non-holiday     no tour   low precip   \n",
       "274          20.5     Monday  non-holiday     no tour    no precip   \n",
       "236          27.5   Saturday  non-holiday     no tour    no precip   \n",
       "313          -4.5     Friday  non-holiday     no tour    no precip   \n",
       "265          16.5     Sunday  non-holiday     no tour    no precip   \n",
       "..            ...        ...          ...         ...          ...   \n",
       "183          30.5  Wednesday  non-holiday     no tour    no precip   \n",
       "10          -15.0     Friday  non-holiday     no tour    no precip   \n",
       "78            0.0    Tuesday  non-holiday     no tour    no precip   \n",
       "135          21.0    Tuesday  non-holiday     no tour    no precip   \n",
       "1             0.0     Monday      holiday     no tour    no precip   \n",
       "\n",
       "         snow cover  \n",
       "149    no snowcover  \n",
       "274    no snowcover  \n",
       "236    no snowcover  \n",
       "313    no snowcover  \n",
       "265    no snowcover  \n",
       "..              ...  \n",
       "183    no snowcover  \n",
       "10    med snowcover  \n",
       "78   high snowcover  \n",
       "135    no snowcover  \n",
       "1    high snowcover  \n",
       "\n",
       "[216 rows x 6 columns]"
      ]
     },
     "metadata": {},
     "output_type": "display_data"
    }
   ],
   "source": [
    "display(X_test)"
   ]
  },
  {
   "cell_type": "code",
   "execution_count": 162,
   "metadata": {
    "scrolled": true
   },
   "outputs": [
    {
     "data": {
      "text/plain": [
       "(216, 18)"
      ]
     },
     "execution_count": 162,
     "metadata": {},
     "output_type": "execute_result"
    }
   ],
   "source": [
    "#%% preprocessing, test set\n",
    "mms_test = MinMaxScaler(feature_range = (0,1))\n",
    "ohe_test = OneHotEncoder(categories = ohe.categories_, drop = 'if_binary', sparse = False)\n",
    "\n",
    "Xte_cont = X_test.select_dtypes(include = 'float64')\n",
    "Xte_categ = X_test.select_dtypes(exclude = 'float64')\n",
    "Xte_categ = Xte_categ.astype('category')\n",
    "\n",
    "Xte_scaled = mms_test.fit_transform(Xte_cont)\n",
    "Xte_scaled = mms.transform(Xte_cont)\n",
    "Xte_scaled.shape\n",
    "\n",
    "Xte_enc = ohe_test.fit_transform(Xte_categ)\n",
    "Xte_enc = ohe.transform(Xte_categ)\n",
    "Xte_enc.shape\n",
    "Xte_prepd = np.concatenate([Xte_scaled, Xte_enc], axis=1)\n",
    "        \n",
    "\n",
    "Xte_prepd = pd.DataFrame(Xte_prepd)\n",
    "Xte_prepd.shape"
   ]
  },
  {
   "cell_type": "markdown",
   "metadata": {},
   "source": [
    "# Model Building\n",
    "\n",
    "now we can build some models. we'll start with a group of the most basic regressor estimators, and throw in an ensemble one just for fun. we'll put these models in a list and loop through them. \n",
    "\n",
    "now, remember how we learned that one of the main correlations we expected turned out to be an exponential relationship, as opposed to a linear one, and how we took the np.log() of the cyclist count to see the linear relationship? well technically we could create a new target variable column which was the log of the original column, build our models, make predictions, and then back-caculate the actual counts and errors. but sklearn knows we're lazier than that. so they've built an object that does all that for us. ie will apply a transormation to the target data at the same time as fitting models and using them to predict data. we just need to specify the function used to transform the data, as well as the inverse function to un-transform it. this keeps things a lot cleaner. it's called TransformedTargetRegressor() and it's very handy.\n",
    "\n",
    "anyway, for each estimator, we will first build it into a TTE using np.log(), then fit it to the training data, then use it to predict some counts using the test data, then calculate the RMSE as a way of ranking the estimator performance. for now, we will take all the default hyperparameters. when we land on a estmator, we will then go and tune it."
   ]
  },
  {
   "cell_type": "code",
   "execution_count": 163,
   "metadata": {
    "scrolled": true
   },
   "outputs": [
    {
     "data": {
      "text/html": [
       "<div>\n",
       "<style scoped>\n",
       "    .dataframe tbody tr th:only-of-type {\n",
       "        vertical-align: middle;\n",
       "    }\n",
       "\n",
       "    .dataframe tbody tr th {\n",
       "        vertical-align: top;\n",
       "    }\n",
       "\n",
       "    .dataframe thead th {\n",
       "        text-align: right;\n",
       "    }\n",
       "</style>\n",
       "<table border=\"1\" class=\"dataframe\">\n",
       "  <thead>\n",
       "    <tr style=\"text-align: right;\">\n",
       "      <th></th>\n",
       "      <th>Estimator</th>\n",
       "      <th>RMSE</th>\n",
       "    </tr>\n",
       "  </thead>\n",
       "  <tbody>\n",
       "    <tr>\n",
       "      <th>0</th>\n",
       "      <td>SVR()</td>\n",
       "      <td>2521.342603</td>\n",
       "    </tr>\n",
       "    <tr>\n",
       "      <th>1</th>\n",
       "      <td>LinearRegression(fit_intercept=False)</td>\n",
       "      <td>2760.870163</td>\n",
       "    </tr>\n",
       "    <tr>\n",
       "      <th>2</th>\n",
       "      <td>Lasso()</td>\n",
       "      <td>7590.591484</td>\n",
       "    </tr>\n",
       "    <tr>\n",
       "      <th>3</th>\n",
       "      <td>RandomForestRegressor()</td>\n",
       "      <td>2408.625669</td>\n",
       "    </tr>\n",
       "  </tbody>\n",
       "</table>\n",
       "</div>"
      ],
      "text/plain": [
       "                               Estimator         RMSE\n",
       "0                                  SVR()  2521.342603\n",
       "1  LinearRegression(fit_intercept=False)  2760.870163\n",
       "2                                Lasso()  7590.591484\n",
       "3                RandomForestRegressor()  2408.625669"
      ]
     },
     "metadata": {},
     "output_type": "display_data"
    }
   ],
   "source": [
    "#%%build models\n",
    "\n",
    "svr = svm.SVR(kernel = 'rbf')\n",
    "linear = linear_model.LinearRegression(fit_intercept = False)\n",
    "lasso = linear_model.Lasso()\n",
    "rfr = RandomForestRegressor()\n",
    "\n",
    "estimatorQueue = [svr, linear, lasso, rfr]\n",
    "\n",
    "rmsle = []\n",
    "rmse = []\n",
    "\n",
    "for i in range(len(estimatorQueue)):\n",
    "    regr_trans = TransformedTargetRegressor(regressor=estimatorQueue[i],\n",
    "                                        func=np.log1p,\n",
    "                                        inverse_func=np.expm1)\n",
    "    regr_trans.fit(Xtr_prepd,Y_train)\n",
    "    \n",
    "    Y_pred_t = regr_trans.predict(Xte_prepd)        \n",
    "\n",
    "    model_rmse_trans = mean_squared_error(Y_test,Y_pred_t, squared = False)\n",
    "    \n",
    "    rmse.append(model_rmse_trans)\n",
    "    \n",
    "    \n",
    "results = {'Estimator':estimatorQueue, 'RMSE': rmse} \n",
    "results = pd.DataFrame(results)\n",
    "display(results)"
   ]
  },
  {
   "cell_type": "markdown",
   "metadata": {},
   "source": [
    "as expected, the RandomForestRegressor() performed the best. this shouldn't be a surprise because of the way it's structured. \n",
    "\n",
    "the RFR starts by taking a group of random data points and fitting a decision tree to them to make a prediction. then the RFR picks a new group of points, and fits a new decision tree. then, after this is done hundreds (or thousands?) of times, the estimator takes an average of the predictions of all the trees. it's a very powerful algorithm. read more here: https://medium.com/swlh/random-forest-and-its-implementation-71824ced454f\n",
    "\n",
    "now let's take a look at how the predictions on the test data fit with the test data. recall the trick we used earlier of passing an index vector to the train/test split so we could keep track of the shuffle. this will allow us to plot the test data and the predictions on the same axes and they will both be in index order. ie the order of the original X-matrix before it got shuffled in the train/test split."
   ]
  },
  {
   "cell_type": "code",
   "execution_count": 164,
   "metadata": {
    "scrolled": true
   },
   "outputs": [
    {
     "data": {
      "text/plain": [
       "Text(0, 0.5, 'cyclists on road')"
      ]
     },
     "execution_count": 164,
     "metadata": {},
     "output_type": "execute_result"
    },
    {
     "data": {
      "image/png": "[encoded data removed]",
      "text/plain": [
       "<Figure size 432x288 with 1 Axes>"
      ]
     },
     "metadata": {
      "needs_background": "light"
     },
     "output_type": "display_data"
    }
   ],
   "source": [
    "#%% data exploration\n",
    "plt.figure()\n",
    "plt.scatter(idx_test,Y_test, label = 'Y_test', linestyle = 'None', marker = '.')\n",
    "plt.scatter(idx_test,Y_pred_t, label = 'Y_pred', linestyle = 'None', marker = '.')\n",
    "plt.legend()\n",
    "plt.xlabel('index')\n",
    "plt.ylabel('cyclists on road')"
   ]
  },
  {
   "cell_type": "markdown",
   "metadata": {},
   "source": [
    "ok now this looks pretty good. we can see that our predictions more or less follow the seasonality of the test data. and we know from the results table a few cells ago that on average this set of predictions is about 2500 riders off from the true number. which, during the winters where there's only 1000-2000 riders out, is not very good. but in the summer when counts are reaching almost 25,000 riders, that's pretty good.\n",
    "\n",
    "by the way, if a more learned machine learning engineer out there has a recommendation of a better scoring function to use in cases like this, i would love to hear it. by that i mean that saying the RMSE is about 2000 riders doesn't quite account for the fact that when there's 1000-2000 riders out, the model does pretty good. and when there are 15000-25000 riders out, a RMSE of 2500 riders is decent. there has got to be a better method of scoring the predictions that accounts for this phenomenon.\n",
    "\n",
    "# Model Tuning\n",
    "\n",
    "regardless, for now let's continue with the random forest regressor and tune it for even better results using GridSearchCV. unfortunately, we can't use the TTR within the GridSearchCV() so we have to construct it with a generic RFR and fit it to the log of Y_train.\n",
    "\n",
    "in order to make the below code cells work, you will need to uncomment line 13 below. currently it is commented out to prevent the gridsearch from occuring. this is a computationally-intensive and long-duration command that i would like to skip as i built the notebook."
   ]
  },
  {
   "cell_type": "code",
   "execution_count": 165,
   "metadata": {
    "scrolled": true
   },
   "outputs": [
    {
     "data": {
      "text/plain": [
       "TransformedTargetRegressor(func=<ufunc 'log1p'>, inverse_func=<ufunc 'expm1'>,\n",
       "                           regressor=RandomForestRegressor())"
      ]
     },
     "execution_count": 165,
     "metadata": {},
     "output_type": "execute_result"
    }
   ],
   "source": [
    "#%%instantiate winning model for tuning and feature work\n",
    "rfr_trans = TransformedTargetRegressor(regressor=rfr,\n",
    "                                        func=np.log1p,\n",
    "                                        inverse_func=np.expm1)\n",
    "\n",
    "rfr_trans.fit(Xtr_prepd, Y_train)"
   ]
  },
  {
   "cell_type": "code",
   "execution_count": 166,
   "metadata": {},
   "outputs": [
    {
     "name": "stdout",
     "output_type": "stream",
     "text": [
      "Fitting 5 folds for each of 9 candidates, totalling 45 fits\n",
      "[CV] bootstrap=True, max_features=auto, min_samples_split=8, n_estimators=100 \n"
     ]
    },
    {
     "name": "stderr",
     "output_type": "stream",
     "text": [
      "[Parallel(n_jobs=1)]: Using backend SequentialBackend with 1 concurrent workers.\n"
     ]
    },
    {
     "name": "stdout",
     "output_type": "stream",
     "text": [
      "[CV]  bootstrap=True, max_features=auto, min_samples_split=8, n_estimators=100, score=0.898, total=   0.8s\n",
      "[CV] bootstrap=True, max_features=auto, min_samples_split=8, n_estimators=100 \n"
     ]
    },
    {
     "name": "stderr",
     "output_type": "stream",
     "text": [
      "[Parallel(n_jobs=1)]: Done   1 out of   1 | elapsed:    0.7s remaining:    0.0s\n"
     ]
    },
    {
     "name": "stdout",
     "output_type": "stream",
     "text": [
      "[CV]  bootstrap=True, max_features=auto, min_samples_split=8, n_estimators=100, score=0.909, total=   0.8s\n",
      "[CV] bootstrap=True, max_features=auto, min_samples_split=8, n_estimators=100 \n"
     ]
    },
    {
     "name": "stderr",
     "output_type": "stream",
     "text": [
      "[Parallel(n_jobs=1)]: Done   2 out of   2 | elapsed:    1.5s remaining:    0.0s\n"
     ]
    },
    {
     "name": "stdout",
     "output_type": "stream",
     "text": [
      "[CV]  bootstrap=True, max_features=auto, min_samples_split=8, n_estimators=100, score=0.914, total=   0.9s\n",
      "[CV] bootstrap=True, max_features=auto, min_samples_split=8, n_estimators=100 \n"
     ]
    },
    {
     "name": "stderr",
     "output_type": "stream",
     "text": [
      "[Parallel(n_jobs=1)]: Done   3 out of   3 | elapsed:    2.4s remaining:    0.0s\n"
     ]
    },
    {
     "name": "stdout",
     "output_type": "stream",
     "text": [
      "[CV]  bootstrap=True, max_features=auto, min_samples_split=8, n_estimators=100, score=0.885, total=   0.8s\n",
      "[CV] bootstrap=True, max_features=auto, min_samples_split=8, n_estimators=100 \n"
     ]
    },
    {
     "name": "stderr",
     "output_type": "stream",
     "text": [
      "[Parallel(n_jobs=1)]: Done   4 out of   4 | elapsed:    3.3s remaining:    0.0s\n"
     ]
    },
    {
     "name": "stdout",
     "output_type": "stream",
     "text": [
      "[CV]  bootstrap=True, max_features=auto, min_samples_split=8, n_estimators=100, score=0.886, total=   0.8s\n",
      "[CV] bootstrap=True, max_features=auto, min_samples_split=8, n_estimators=200 \n",
      "[CV]  bootstrap=True, max_features=auto, min_samples_split=8, n_estimators=200, score=0.900, total=   1.6s\n",
      "[CV] bootstrap=True, max_features=auto, min_samples_split=8, n_estimators=200 \n",
      "[CV]  bootstrap=True, max_features=auto, min_samples_split=8, n_estimators=200, score=0.908, total=   1.5s\n",
      "[CV] bootstrap=True, max_features=auto, min_samples_split=8, n_estimators=200 \n",
      "[CV]  bootstrap=True, max_features=auto, min_samples_split=8, n_estimators=200, score=0.913, total=   1.4s\n",
      "[CV] bootstrap=True, max_features=auto, min_samples_split=8, n_estimators=200 \n",
      "[CV]  bootstrap=True, max_features=auto, min_samples_split=8, n_estimators=200, score=0.886, total=   1.5s\n",
      "[CV] bootstrap=True, max_features=auto, min_samples_split=8, n_estimators=200 \n",
      "[CV]  bootstrap=True, max_features=auto, min_samples_split=8, n_estimators=200, score=0.885, total=   1.9s\n",
      "[CV] bootstrap=True, max_features=auto, min_samples_split=8, n_estimators=500 \n",
      "[CV]  bootstrap=True, max_features=auto, min_samples_split=8, n_estimators=500, score=0.899, total=   3.9s\n",
      "[CV] bootstrap=True, max_features=auto, min_samples_split=8, n_estimators=500 \n",
      "[CV]  bootstrap=True, max_features=auto, min_samples_split=8, n_estimators=500, score=0.910, total=   3.9s\n",
      "[CV] bootstrap=True, max_features=auto, min_samples_split=8, n_estimators=500 \n",
      "[CV]  bootstrap=True, max_features=auto, min_samples_split=8, n_estimators=500, score=0.913, total=   3.8s\n",
      "[CV] bootstrap=True, max_features=auto, min_samples_split=8, n_estimators=500 \n",
      "[CV]  bootstrap=True, max_features=auto, min_samples_split=8, n_estimators=500, score=0.885, total=   3.6s\n",
      "[CV] bootstrap=True, max_features=auto, min_samples_split=8, n_estimators=500 \n",
      "[CV]  bootstrap=True, max_features=auto, min_samples_split=8, n_estimators=500, score=0.885, total=   4.0s\n",
      "[CV] bootstrap=True, max_features=auto, min_samples_split=16, n_estimators=100 \n",
      "[CV]  bootstrap=True, max_features=auto, min_samples_split=16, n_estimators=100, score=0.899, total=   0.8s\n",
      "[CV] bootstrap=True, max_features=auto, min_samples_split=16, n_estimators=100 \n",
      "[CV]  bootstrap=True, max_features=auto, min_samples_split=16, n_estimators=100, score=0.911, total=   0.7s\n",
      "[CV] bootstrap=True, max_features=auto, min_samples_split=16, n_estimators=100 \n",
      "[CV]  bootstrap=True, max_features=auto, min_samples_split=16, n_estimators=100, score=0.913, total=   0.8s\n",
      "[CV] bootstrap=True, max_features=auto, min_samples_split=16, n_estimators=100 \n",
      "[CV]  bootstrap=True, max_features=auto, min_samples_split=16, n_estimators=100, score=0.886, total=   0.8s\n",
      "[CV] bootstrap=True, max_features=auto, min_samples_split=16, n_estimators=100 \n",
      "[CV]  bootstrap=True, max_features=auto, min_samples_split=16, n_estimators=100, score=0.881, total=   0.7s\n",
      "[CV] bootstrap=True, max_features=auto, min_samples_split=16, n_estimators=200 \n",
      "[CV]  bootstrap=True, max_features=auto, min_samples_split=16, n_estimators=200, score=0.899, total=   1.3s\n",
      "[CV] bootstrap=True, max_features=auto, min_samples_split=16, n_estimators=200 \n",
      "[CV]  bootstrap=True, max_features=auto, min_samples_split=16, n_estimators=200, score=0.912, total=   1.3s\n",
      "[CV] bootstrap=True, max_features=auto, min_samples_split=16, n_estimators=200 \n",
      "[CV]  bootstrap=True, max_features=auto, min_samples_split=16, n_estimators=200, score=0.910, total=   1.3s\n",
      "[CV] bootstrap=True, max_features=auto, min_samples_split=16, n_estimators=200 \n",
      "[CV]  bootstrap=True, max_features=auto, min_samples_split=16, n_estimators=200, score=0.886, total=   1.4s\n",
      "[CV] bootstrap=True, max_features=auto, min_samples_split=16, n_estimators=200 \n",
      "[CV]  bootstrap=True, max_features=auto, min_samples_split=16, n_estimators=200, score=0.881, total=   1.5s\n",
      "[CV] bootstrap=True, max_features=auto, min_samples_split=16, n_estimators=500 \n",
      "[CV]  bootstrap=True, max_features=auto, min_samples_split=16, n_estimators=500, score=0.899, total=   3.9s\n",
      "[CV] bootstrap=True, max_features=auto, min_samples_split=16, n_estimators=500 \n",
      "[CV]  bootstrap=True, max_features=auto, min_samples_split=16, n_estimators=500, score=0.911, total=   3.4s\n",
      "[CV] bootstrap=True, max_features=auto, min_samples_split=16, n_estimators=500 \n",
      "[CV]  bootstrap=True, max_features=auto, min_samples_split=16, n_estimators=500, score=0.911, total=   3.3s\n",
      "[CV] bootstrap=True, max_features=auto, min_samples_split=16, n_estimators=500 \n",
      "[CV]  bootstrap=True, max_features=auto, min_samples_split=16, n_estimators=500, score=0.886, total=   3.6s\n",
      "[CV] bootstrap=True, max_features=auto, min_samples_split=16, n_estimators=500 \n",
      "[CV]  bootstrap=True, max_features=auto, min_samples_split=16, n_estimators=500, score=0.882, total=   3.4s\n",
      "[CV] bootstrap=True, max_features=auto, min_samples_split=32, n_estimators=100 \n",
      "[CV]  bootstrap=True, max_features=auto, min_samples_split=32, n_estimators=100, score=0.894, total=   0.7s\n",
      "[CV] bootstrap=True, max_features=auto, min_samples_split=32, n_estimators=100 \n",
      "[CV]  bootstrap=True, max_features=auto, min_samples_split=32, n_estimators=100, score=0.913, total=   0.7s\n",
      "[CV] bootstrap=True, max_features=auto, min_samples_split=32, n_estimators=100 \n",
      "[CV]  bootstrap=True, max_features=auto, min_samples_split=32, n_estimators=100, score=0.897, total=   0.7s\n",
      "[CV] bootstrap=True, max_features=auto, min_samples_split=32, n_estimators=100 \n",
      "[CV]  bootstrap=True, max_features=auto, min_samples_split=32, n_estimators=100, score=0.882, total=   0.8s\n",
      "[CV] bootstrap=True, max_features=auto, min_samples_split=32, n_estimators=100 \n",
      "[CV]  bootstrap=True, max_features=auto, min_samples_split=32, n_estimators=100, score=0.867, total=   0.8s\n",
      "[CV] bootstrap=True, max_features=auto, min_samples_split=32, n_estimators=200 \n",
      "[CV]  bootstrap=True, max_features=auto, min_samples_split=32, n_estimators=200, score=0.895, total=   1.4s\n",
      "[CV] bootstrap=True, max_features=auto, min_samples_split=32, n_estimators=200 \n",
      "[CV]  bootstrap=True, max_features=auto, min_samples_split=32, n_estimators=200, score=0.914, total=   1.2s\n",
      "[CV] bootstrap=True, max_features=auto, min_samples_split=32, n_estimators=200 \n",
      "[CV]  bootstrap=True, max_features=auto, min_samples_split=32, n_estimators=200, score=0.899, total=   1.2s\n",
      "[CV] bootstrap=True, max_features=auto, min_samples_split=32, n_estimators=200 \n",
      "[CV]  bootstrap=True, max_features=auto, min_samples_split=32, n_estimators=200, score=0.883, total=   1.4s\n",
      "[CV] bootstrap=True, max_features=auto, min_samples_split=32, n_estimators=200 \n",
      "[CV]  bootstrap=True, max_features=auto, min_samples_split=32, n_estimators=200, score=0.866, total=   1.4s\n",
      "[CV] bootstrap=True, max_features=auto, min_samples_split=32, n_estimators=500 \n",
      "[CV]  bootstrap=True, max_features=auto, min_samples_split=32, n_estimators=500, score=0.895, total=   3.3s\n",
      "[CV] bootstrap=True, max_features=auto, min_samples_split=32, n_estimators=500 \n",
      "[CV]  bootstrap=True, max_features=auto, min_samples_split=32, n_estimators=500, score=0.915, total=   3.3s\n",
      "[CV] bootstrap=True, max_features=auto, min_samples_split=32, n_estimators=500 \n",
      "[CV]  bootstrap=True, max_features=auto, min_samples_split=32, n_estimators=500, score=0.899, total=   3.1s\n",
      "[CV] bootstrap=True, max_features=auto, min_samples_split=32, n_estimators=500 \n",
      "[CV]  bootstrap=True, max_features=auto, min_samples_split=32, n_estimators=500, score=0.884, total=   3.5s\n",
      "[CV] bootstrap=True, max_features=auto, min_samples_split=32, n_estimators=500 \n",
      "[CV]  bootstrap=True, max_features=auto, min_samples_split=32, n_estimators=500, score=0.867, total=   3.3s\n"
     ]
    },
    {
     "name": "stderr",
     "output_type": "stream",
     "text": [
      "[Parallel(n_jobs=1)]: Done  45 out of  45 | elapsed:  1.4min finished\n"
     ]
    },
    {
     "data": {
      "text/plain": [
       "{'bootstrap': True,\n",
       " 'max_features': 'auto',\n",
       " 'min_samples_split': 8,\n",
       " 'n_estimators': 500}"
      ]
     },
     "execution_count": 166,
     "metadata": {},
     "output_type": "execute_result"
    }
   ],
   "source": [
    "#%% model tuning\n",
    "param_dict = { \n",
    "    \"n_estimators\"      : [100, 200, 500],\n",
    "    \"max_features\"      : [\"auto\", \"sqrt\", \"log2\"],\n",
    "    \"min_samples_split\" : [8, 16, 32],\n",
    "    \"bootstrap\": [True, False],\n",
    "    }\n",
    "\n",
    "rfr_grid=GridSearchCV(estimator=RandomForestRegressor(),\n",
    "                    param_grid=param_dict,\n",
    "                    verbose = 5)\n",
    "\n",
    "#rfr_grid.fit(Xtr_prepd,np.log(Y_train))\n",
    "rfr_grid.best_params_"
   ]
  },
  {
   "cell_type": "markdown",
   "metadata": {},
   "source": [
    "now let's build a RFR, wrapped in a TTR, with the best parameters as discovered by the GridSearchCV. then we can fit it and run the permutation importance function on it, which will give us direction for feature engineering"
   ]
  },
  {
   "cell_type": "code",
   "execution_count": 167,
   "metadata": {},
   "outputs": [
    {
     "name": "stdout",
     "output_type": "stream",
     "text": [
      "2328.4983054712234\n",
      "tuning improvement percentage: \n",
      "1.0344116047856549\n"
     ]
    }
   ],
   "source": [
    "#%% prep for feature importances\n",
    "\n",
    "#re-fit model with best params\n",
    "rfr_best=RandomForestRegressor(n_estimators = 500,\n",
    "                               min_samples_split= 8,\n",
    "                               max_features = 'auto',\n",
    "                               bootstrap = True)\n",
    "\n",
    "best_model = TransformedTargetRegressor(regressor=rfr_best,\n",
    "                                        func=np.log1p,\n",
    "                                        inverse_func=np.expm1)\n",
    "best_model.fit(Xtr_prepd,Y_train)\n",
    "\n",
    "Y_pred_best = best_model.predict(Xte_prepd)\n",
    "best_rmse = mean_squared_error(Y_test, Y_pred_best, squared = False)\n",
    "print(best_rmse)\n",
    "print('tuning improvement percentage: ')\n",
    "print(results['RMSE'].iloc[-1] / best_rmse)\n"
   ]
  },
  {
   "cell_type": "markdown",
   "metadata": {},
   "source": [
    "tuning got us a 3.4% improvement in model predictive accuracy (as defined by RMSE). small improvement, but not nothing. perhaps some feature engineering will help us do better. best RMSE so far: ~2046\n",
    "\n",
    "# Feature Importances and Engineering"
   ]
  },
  {
   "cell_type": "code",
   "execution_count": 168,
   "metadata": {},
   "outputs": [],
   "source": [
    "#%% feature importances\n",
    "fe_im = permutation_importance(best_model, Xtr_prepd, Y_train)\n",
    "importances = pd.DataFrame(fe_im.importances_mean)\n",
    "\n",
    "allCategories = list(Xtr_cont.columns)\n",
    "allCategories.extend(ohe.get_feature_names())\n",
    "\n",
    "importances['feature']=allCategories"
   ]
  },
  {
   "cell_type": "code",
   "execution_count": 169,
   "metadata": {},
   "outputs": [
    {
     "data": {
      "text/html": [
       "<div>\n",
       "<style scoped>\n",
       "    .dataframe tbody tr th:only-of-type {\n",
       "        vertical-align: middle;\n",
       "    }\n",
       "\n",
       "    .dataframe tbody tr th {\n",
       "        vertical-align: top;\n",
       "    }\n",
       "\n",
       "    .dataframe thead th {\n",
       "        text-align: right;\n",
       "    }\n",
       "</style>\n",
       "<table border=\"1\" class=\"dataframe\">\n",
       "  <thead>\n",
       "    <tr style=\"text-align: right;\">\n",
       "      <th></th>\n",
       "      <th>0</th>\n",
       "      <th>feature</th>\n",
       "    </tr>\n",
       "  </thead>\n",
       "  <tbody>\n",
       "    <tr>\n",
       "      <th>0</th>\n",
       "      <td>1.267929</td>\n",
       "      <td>Max Temp (C)</td>\n",
       "    </tr>\n",
       "    <tr>\n",
       "      <th>3</th>\n",
       "      <td>0.081660</td>\n",
       "      <td>x0_Saturday</td>\n",
       "    </tr>\n",
       "    <tr>\n",
       "      <th>4</th>\n",
       "      <td>0.057800</td>\n",
       "      <td>x0_Sunday</td>\n",
       "    </tr>\n",
       "    <tr>\n",
       "      <th>17</th>\n",
       "      <td>0.057692</td>\n",
       "      <td>x4_no snowcover</td>\n",
       "    </tr>\n",
       "    <tr>\n",
       "      <th>13</th>\n",
       "      <td>0.032993</td>\n",
       "      <td>x3_no precip</td>\n",
       "    </tr>\n",
       "    <tr>\n",
       "      <th>10</th>\n",
       "      <td>0.017417</td>\n",
       "      <td>x3_high precip</td>\n",
       "    </tr>\n",
       "    <tr>\n",
       "      <th>14</th>\n",
       "      <td>0.012832</td>\n",
       "      <td>x4_high snowcover</td>\n",
       "    </tr>\n",
       "    <tr>\n",
       "      <th>9</th>\n",
       "      <td>0.012481</td>\n",
       "      <td>x2_tour</td>\n",
       "    </tr>\n",
       "    <tr>\n",
       "      <th>1</th>\n",
       "      <td>0.010705</td>\n",
       "      <td>x0_Friday</td>\n",
       "    </tr>\n",
       "    <tr>\n",
       "      <th>8</th>\n",
       "      <td>0.010058</td>\n",
       "      <td>x1_non-holiday</td>\n",
       "    </tr>\n",
       "    <tr>\n",
       "      <th>2</th>\n",
       "      <td>0.005691</td>\n",
       "      <td>x0_Monday</td>\n",
       "    </tr>\n",
       "    <tr>\n",
       "      <th>5</th>\n",
       "      <td>0.004850</td>\n",
       "      <td>x0_Thursday</td>\n",
       "    </tr>\n",
       "    <tr>\n",
       "      <th>7</th>\n",
       "      <td>0.004358</td>\n",
       "      <td>x0_Wednesday</td>\n",
       "    </tr>\n",
       "    <tr>\n",
       "      <th>6</th>\n",
       "      <td>0.002898</td>\n",
       "      <td>x0_Tuesday</td>\n",
       "    </tr>\n",
       "    <tr>\n",
       "      <th>12</th>\n",
       "      <td>0.001550</td>\n",
       "      <td>x3_med precip</td>\n",
       "    </tr>\n",
       "    <tr>\n",
       "      <th>11</th>\n",
       "      <td>0.001485</td>\n",
       "      <td>x3_low precip</td>\n",
       "    </tr>\n",
       "    <tr>\n",
       "      <th>15</th>\n",
       "      <td>0.000061</td>\n",
       "      <td>x4_little snowcover</td>\n",
       "    </tr>\n",
       "    <tr>\n",
       "      <th>16</th>\n",
       "      <td>0.000025</td>\n",
       "      <td>x4_med snowcover</td>\n",
       "    </tr>\n",
       "  </tbody>\n",
       "</table>\n",
       "</div>"
      ],
      "text/plain": [
       "           0              feature\n",
       "0   1.267929         Max Temp (C)\n",
       "3   0.081660          x0_Saturday\n",
       "4   0.057800            x0_Sunday\n",
       "17  0.057692      x4_no snowcover\n",
       "13  0.032993         x3_no precip\n",
       "10  0.017417       x3_high precip\n",
       "14  0.012832    x4_high snowcover\n",
       "9   0.012481              x2_tour\n",
       "1   0.010705            x0_Friday\n",
       "8   0.010058       x1_non-holiday\n",
       "2   0.005691            x0_Monday\n",
       "5   0.004850          x0_Thursday\n",
       "7   0.004358         x0_Wednesday\n",
       "6   0.002898           x0_Tuesday\n",
       "12  0.001550        x3_med precip\n",
       "11  0.001485        x3_low precip\n",
       "15  0.000061  x4_little snowcover\n",
       "16  0.000025     x4_med snowcover"
      ]
     },
     "metadata": {},
     "output_type": "display_data"
    }
   ],
   "source": [
    "display(importances.sort_values(by = 0, ascending = False))"
   ]
  },
  {
   "cell_type": "markdown",
   "metadata": {},
   "source": [
    "a few fun takaways from this exercise:\n",
    "\n",
    "1. max temp matters way more than mean or min temp. makes sense i guess but i didn't think the difference would be that drastic. to simplify the model, we can remove mean and min temp columns. which are probably causing multicolinearity problems anyway.\n",
    "\n",
    "2. snow on ground matters more than precip of any kind. this probably means that for some riders, as long as there's no snow on the ground some riders will be out there, regardless of the precipitation. whether these be commuters or pleasure riders, these are what we in the community would call \"the Hardmen\". we can simplify the model by removing Total snow, which barely matters at all. if we wanted, we could go further and remove total rain in favor of simply \"total precip\". or we could bin the precip amounts by mm/cm, or simply \"hi/med/low\".\n",
    "\n",
    "3. weekend being true probably matters more than specifically what day of week it is. if we wanted we could simplify the model by having this be a binary/boolean variable of just \"weekday?\" (Y/N)\n",
    "\n",
    "4. holiday or non-holiday matters the same amount as whether the tour de france is currently running. no real insight to gain here other than admitting that hey...there's probably a few people out there on bikes simply because the entire (pro) cycling world is paying attention to this event. or, in the cycling world, the tour de france is the equivalent of a holiday\n",
    "\n",
    "just for fun, let's remove the variables that are not helping the model, and bin the total precip and snowcover variables. to do this we can make use of pandas cut() function which i just discovered. it takes a numeric pandas series and replaces the numbers with labels according to a ranged map passed to it. super simple and convenient."
   ]
  },
  {
   "cell_type": "code",
   "execution_count": 170,
   "metadata": {
    "scrolled": true
   },
   "outputs": [],
   "source": [
    "#%% feature engineering\n",
    "\n",
    "def featureEngineering(weatherData):\n",
    "\n",
    "    weatherData_raw = weatherData\n",
    "    weatherData = weatherData.drop(columns = 'Total Snow (cm)')\n",
    "    \n",
    "    precipBins = [-1,3, 6, 9, weatherData['Total Precip (mm)'].max()+1]\n",
    "    labels = ['no precip', 'low precip','med precip','high precip']\n",
    "    weatherData['precip level'] = pd.cut(weatherData['Total Precip (mm)'], \n",
    "                                         bins=precipBins, labels=labels)\n",
    "    weatherData = weatherData.drop(columns = 'Total Precip (mm)')\n",
    "    \n",
    "    groundSnowBins = [-1,3, 6, 9,weatherData['Snow on Grnd (cm)'].max()+1]\n",
    "    labels = ['no snowcover', 'little snowcover', 'med snowcover','high snowcover']\n",
    "    weatherData['snow cover'] = pd.cut(weatherData['Snow on Grnd (cm)'], \n",
    "                                        bins=groundSnowBins, labels=labels)\n",
    "    weatherData = weatherData.drop(columns = 'Snow on Grnd (cm)')\n",
    "    \n",
    "    dropList = ['Min Temp (C)', 'Mean Temp (C)', 'Total Rain (mm)']\n",
    "    weatherData = weatherData.drop(columns = dropList)\n",
    "\n",
    "    return weatherData\n"
   ]
  },
  {
   "cell_type": "code",
   "execution_count": 171,
   "metadata": {},
   "outputs": [
    {
     "data": {
      "text/html": [
       "<div>\n",
       "<style scoped>\n",
       "    .dataframe tbody tr th:only-of-type {\n",
       "        vertical-align: middle;\n",
       "    }\n",
       "\n",
       "    .dataframe tbody tr th {\n",
       "        vertical-align: top;\n",
       "    }\n",
       "\n",
       "    .dataframe thead th {\n",
       "        text-align: right;\n",
       "    }\n",
       "</style>\n",
       "<table border=\"1\" class=\"dataframe\">\n",
       "  <thead>\n",
       "    <tr style=\"text-align: right;\">\n",
       "      <th></th>\n",
       "      <th>Date/Time</th>\n",
       "      <th>Max Temp (C)</th>\n",
       "      <th>weekday</th>\n",
       "      <th>holiday?</th>\n",
       "      <th>world tour?</th>\n",
       "      <th>precip level</th>\n",
       "      <th>snow cover</th>\n",
       "    </tr>\n",
       "  </thead>\n",
       "  <tbody>\n",
       "    <tr>\n",
       "      <th>0</th>\n",
       "      <td>2016-01-01</td>\n",
       "      <td>-0.1</td>\n",
       "      <td>Friday</td>\n",
       "      <td>holiday</td>\n",
       "      <td>no tour</td>\n",
       "      <td>no precip</td>\n",
       "      <td>high snowcover</td>\n",
       "    </tr>\n",
       "    <tr>\n",
       "      <th>1</th>\n",
       "      <td>2016-01-02</td>\n",
       "      <td>-0.1</td>\n",
       "      <td>Saturday</td>\n",
       "      <td>non-holiday</td>\n",
       "      <td>no tour</td>\n",
       "      <td>no precip</td>\n",
       "      <td>high snowcover</td>\n",
       "    </tr>\n",
       "    <tr>\n",
       "      <th>2</th>\n",
       "      <td>2016-01-03</td>\n",
       "      <td>-0.2</td>\n",
       "      <td>Sunday</td>\n",
       "      <td>non-holiday</td>\n",
       "      <td>no tour</td>\n",
       "      <td>no precip</td>\n",
       "      <td>high snowcover</td>\n",
       "    </tr>\n",
       "    <tr>\n",
       "      <th>3</th>\n",
       "      <td>2016-01-04</td>\n",
       "      <td>-14.7</td>\n",
       "      <td>Monday</td>\n",
       "      <td>non-holiday</td>\n",
       "      <td>no tour</td>\n",
       "      <td>no precip</td>\n",
       "      <td>high snowcover</td>\n",
       "    </tr>\n",
       "    <tr>\n",
       "      <th>4</th>\n",
       "      <td>2016-01-05</td>\n",
       "      <td>-7.4</td>\n",
       "      <td>Tuesday</td>\n",
       "      <td>non-holiday</td>\n",
       "      <td>no tour</td>\n",
       "      <td>no precip</td>\n",
       "      <td>high snowcover</td>\n",
       "    </tr>\n",
       "    <tr>\n",
       "      <th>...</th>\n",
       "      <td>...</td>\n",
       "      <td>...</td>\n",
       "      <td>...</td>\n",
       "      <td>...</td>\n",
       "      <td>...</td>\n",
       "      <td>...</td>\n",
       "      <td>...</td>\n",
       "    </tr>\n",
       "    <tr>\n",
       "      <th>360</th>\n",
       "      <td>2019-12-27</td>\n",
       "      <td>3.5</td>\n",
       "      <td>Friday</td>\n",
       "      <td>non-holiday</td>\n",
       "      <td>no tour</td>\n",
       "      <td>no precip</td>\n",
       "      <td>no snowcover</td>\n",
       "    </tr>\n",
       "    <tr>\n",
       "      <th>361</th>\n",
       "      <td>2019-12-28</td>\n",
       "      <td>3.5</td>\n",
       "      <td>Saturday</td>\n",
       "      <td>non-holiday</td>\n",
       "      <td>no tour</td>\n",
       "      <td>no precip</td>\n",
       "      <td>no snowcover</td>\n",
       "    </tr>\n",
       "    <tr>\n",
       "      <th>362</th>\n",
       "      <td>2019-12-29</td>\n",
       "      <td>0.5</td>\n",
       "      <td>Sunday</td>\n",
       "      <td>non-holiday</td>\n",
       "      <td>no tour</td>\n",
       "      <td>no precip</td>\n",
       "      <td>no snowcover</td>\n",
       "    </tr>\n",
       "    <tr>\n",
       "      <th>363</th>\n",
       "      <td>2019-12-30</td>\n",
       "      <td>-1.0</td>\n",
       "      <td>Monday</td>\n",
       "      <td>non-holiday</td>\n",
       "      <td>no tour</td>\n",
       "      <td>high precip</td>\n",
       "      <td>no snowcover</td>\n",
       "    </tr>\n",
       "    <tr>\n",
       "      <th>364</th>\n",
       "      <td>2019-12-31</td>\n",
       "      <td>1.0</td>\n",
       "      <td>Tuesday</td>\n",
       "      <td>non-holiday</td>\n",
       "      <td>no tour</td>\n",
       "      <td>med precip</td>\n",
       "      <td>high snowcover</td>\n",
       "    </tr>\n",
       "  </tbody>\n",
       "</table>\n",
       "<p>1461 rows × 7 columns</p>\n",
       "</div>"
      ],
      "text/plain": [
       "     Date/Time  Max Temp (C)   weekday     holiday? world tour? precip level  \\\n",
       "0   2016-01-01          -0.1    Friday      holiday     no tour    no precip   \n",
       "1   2016-01-02          -0.1  Saturday  non-holiday     no tour    no precip   \n",
       "2   2016-01-03          -0.2    Sunday  non-holiday     no tour    no precip   \n",
       "3   2016-01-04         -14.7    Monday  non-holiday     no tour    no precip   \n",
       "4   2016-01-05          -7.4   Tuesday  non-holiday     no tour    no precip   \n",
       "..         ...           ...       ...          ...         ...          ...   \n",
       "360 2019-12-27           3.5    Friday  non-holiday     no tour    no precip   \n",
       "361 2019-12-28           3.5  Saturday  non-holiday     no tour    no precip   \n",
       "362 2019-12-29           0.5    Sunday  non-holiday     no tour    no precip   \n",
       "363 2019-12-30          -1.0    Monday  non-holiday     no tour  high precip   \n",
       "364 2019-12-31           1.0   Tuesday  non-holiday     no tour   med precip   \n",
       "\n",
       "         snow cover  \n",
       "0    high snowcover  \n",
       "1    high snowcover  \n",
       "2    high snowcover  \n",
       "3    high snowcover  \n",
       "4    high snowcover  \n",
       "..              ...  \n",
       "360    no snowcover  \n",
       "361    no snowcover  \n",
       "362    no snowcover  \n",
       "363    no snowcover  \n",
       "364  high snowcover  \n",
       "\n",
       "[1461 rows x 7 columns]"
      ]
     },
     "metadata": {},
     "output_type": "display_data"
    }
   ],
   "source": [
    "weatherData_eng = featureEngineering(weatherData)\n",
    "display(weatherData_eng)\n"
   ]
  },
  {
   "cell_type": "code",
   "execution_count": 172,
   "metadata": {},
   "outputs": [
    {
     "data": {
      "text/plain": [
       "no precip      1130\n",
       "high precip     140\n",
       "low precip      103\n",
       "med precip       68\n",
       "Name: precip level, dtype: int64"
      ]
     },
     "metadata": {},
     "output_type": "display_data"
    },
    {
     "data": {
      "text/plain": [
       "no snowcover        992\n",
       "high snowcover      328\n",
       "little snowcover     73\n",
       "med snowcover        50\n",
       "Name: snow cover, dtype: int64"
      ]
     },
     "metadata": {},
     "output_type": "display_data"
    }
   ],
   "source": [
    "display(weatherData_eng['precip level'].value_counts())\n",
    "display(weatherData_eng['snow cover'].value_counts())"
   ]
  },
  {
   "cell_type": "markdown",
   "metadata": {},
   "source": [
    "now that we have done some of the feature engineering suggested by the feature importances, we can go back and fit/predict again to try and beat ~2046. to accomplish this easily, simply uncomment line 3 in the \"compile full dataset\" code cell and re-run the notebook."
   ]
  },
  {
   "cell_type": "code",
   "execution_count": 173,
   "metadata": {},
   "outputs": [
    {
     "name": "stdout",
     "output_type": "stream",
     "text": [
      "2328.4983054712234\n"
     ]
    }
   ],
   "source": [
    "print(best_rmse)\n"
   ]
  },
  {
   "cell_type": "markdown",
   "metadata": {},
   "source": [
    "ah. unfortunately, making those feature engineering changes hurt the predictive ability of the model - they didn't help it. sometimes this can happen in the world of machine learning. and that's the beauty of it. at some point, we can't know exactly how the processor is using the data to make its guesses. i mean technically we can look under the hood for each function, but at this point we should be satisfied knowing that leaving the variables the way they are is going to give us the best predictions.\n",
    "\n",
    "# Conclusions/suggestions for future work\n",
    "\n",
    "thanks to the reader for following along this notebook! here are some intresting conclusions and things i've learned from building it.\n",
    "1. love it or hate it, pandas/python/sklearn probably has a function for doing EXACTLY what you want to do. i found this out while working on this project, especially pd.DataFrame.select_dtypes, and pd.cut().\n",
    "2. i will never make the mistake of forgetting that plt.plot() assumes the user wants index order EVER AGAIN. i can see lots of beginners falling into this trap, and would even say my realizing this was a big moment in my growth from beginniner python land\n",
    "3. i'm surprised to learn that when it comes to what causes people to get out on their bikes, outdoor temperature is still king. and that it's the daily high that matters more than any other piece of weather data. i guess this makes sense because people will ride on a winter's day that just happens to be randomly warm (as long as there's no snow on the ground).\n",
    "\n",
    "some ideas i have of how to improve this project would be:\n",
    "1. to get more samples, we could go back further (we did 4 years...but could easily go back as far as data allows). or we could take each day that has a sensor that is not reporting data and try and predict that sensor's reading using a model like this one (maybe using other sensors' data as counts?). this would prevent us from losing so many days' worth of dta and render a more accurate model.\n",
    "\n",
    "2. we could leave the weather data as continuous, but instead of leaving day name and holiday/non-holiday, we could combine these into a boolean feature of \"work day/non work day\". this would be a good way of capturing the number of riders out who are commuters\n",
    "\n",
    "3. it would be cool to repeat this exercise but look at each sensor individually. then, for a given date in the future, you would predict how many riders would pass by each sensor. this would be a good input into another machine learning algorithm that might predict cyclist collisions. or could clue a savvy business owner into knowing where to set up a pop up bike shop. or an espresso cart. bikers love espresso."
   ]
  }
 ],
 "metadata": {
  "kernelspec": {
   "display_name": "Python 3",
   "language": "python",
   "name": "python3"
  },
  "language_info": {
   "codemirror_mode": {
    "name": "ipython",
    "version": 3
   },
   "file_extension": ".py",
   "mimetype": "text/x-python",
   "name": "python",
   "nbconvert_exporter": "python",
   "pygments_lexer": "ipython3",
   "version": "3.8.3"
  }
 },
 "nbformat": 4,
 "nbformat_minor": 4
}
